{
 "cells": [
  {
   "cell_type": "markdown",
   "metadata": {},
   "source": [
    "<img src='https://gitlab.eumetsat.int/eumetlab/oceans/ocean-training/tools/frameworks/-/raw/main/img/Standard_banner.png' align='right' width='100%'/>"
   ]
  },
  {
   "cell_type": "markdown",
   "metadata": {},
   "source": [
    "<a href=\"../../Index.ipynb\" target=\"_blank\"><< Index</a>\n",
    "<br>\n",
    "<a href=\"../Quality_and_cloud/Thermal_image_interpretation_SST_estimation.ipynb\"><< Thermal image interpretation and estimation of sea surface temperature\n",
    "</a>"
   ]
  },
  {
   "cell_type": "markdown",
   "metadata": {},
   "source": [
    "<font color=\"#138D75\">**Copernicus Marine Training Service**</font> <br>\n",
    "**Copyright:** 2024 European Union <br>\n",
    "**License:** MIT <br>\n",
    "**Authors:** Ben Loveday (EUMETSAT/Innoflair UG), Gary Corlett (EUMETSAT), Hayley Evers-King (EUMETSAT)"
   ]
  },
  {
   "cell_type": "markdown",
   "metadata": {},
   "source": [
    "<html>\n",
    "    <div style=\"float:left\"><a href=\"https://gitlab.eumetsat.int/eumetlab/oceans/ocean-training/applications/sea-surface-temperature-applications\"><img src=\"https://img.shields.io/badge/open-EUMETLAB-E67E22.svg?style=flat&logo=data:image/png;base64,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\" alt=\"Open in EUMETLAB\"></a></div>\n",
    "    <div style=\"float:left\"><p>&emsp;</p></div>\n",
    "  </div>\n",
    "  <div style=\"width:100%\">\n",
    "    <div style=\"float:left\"><a href=\"https://user.eumetsat.int/search-view?sort=startDate%20desc&facets=%7B%22contentTypes%22:%5B%22Resources%7CSoftware%20%26%20code%22%5D,%22org-satellite-sensor%22:%5B%22EUMETSAT%7CSentinel-3%7CSLSTR%22%5D,%22theme%22:%5B%22Marine%22,%22Marine%7CMaritime%20safety%22,%22Marine%7COcean%20biogeochemistry%22,%22Marine%7COcean%20dynamics%22,%22Marine%7CWater%20quality%22%5D%7D\"><img src=\"https://img.shields.io/badge/open-USER PORTAL-154360.svg?style=flat&logo=data:image/png;base64,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\" alt=\"Open in user portal\"></a></div>\n",
    "    <div style=\"float:left\"><p>&emsp;</p></div>\n",
    "  </div>\n",
    "\n",
    "  <div style=\"width:100%\">\n",
    "    <div style=\"float:left\"><a href=\"https://jupyterhub.prod.wekeo2.eu/hub/\"><img src=\"https://img.shields.io/badge/launch-WEKEO-1a4696.svg?style=flat&logo=data:image/png;base64,iVBORw0KGgoAAAANSUhEUgAAAA8AAAAMCAMAAACKnBfWAAAABGdBTUEAALGPC/xhBQAAACBjSFJNAAB6JgAAgIQAAPoAAACA6AAAdTAAAOpgAAA6mAAAF3CculE8AAABwlBMVEUAYbdepNtBc7VCdLhNhMQkXKpsn9RWltFZl9VlpNI3aK9fpNtMd7ZznM8pg8o4WJc2TZFHY6MmQYptiLxnqt5hptxfpNtfpNtfpNtgpdtip9x2uullqN1fpNtdo9pepdtanNQ9a65Bc7dCeb5nqt5fpNslUpssW6RMgcBTjstWldJhptxdo9phoNdkpdtfpNtoqNxepNplo9hepNthnNNfpdtelM1hptxSgL5dj8hoqt5fpNsjRYgjPog8WqBHa61TfLplqN1fpdtfpdxam9IyTIw2TZFGYaBoqt5hptxfpdtepNpfpNtgpdtjp9x5vu5do9pHgb5co9pepNtHgbwWN4AVP5AhU6JLgL9dl89epNphpttgpdtipttnqd1ho9glSIkWM3snSokeTJdHda9cksphndRmqNyTweaWxOePv+WfyemAs91QYphFUmpuclhKYHRwh5V8pNNdls6iyuq72fCNvuWIueCIlbtTW2hwcFNTY2lmfpSBpNJZj8lsq91xr99nqdx4suBrqds7V5AlNm85S20lRIJVcZxZgr1Uh8NcotpbotpdpNtGfrcTKnAOKXsYOYo4XKRJcbNHfbf////t/CgnAAAAUHRSTlMAAAAAAAAAAAAAAAAAAAAAAAAAAByF2PfyxGAJLcH+9pQvJgsav/7s57hBf/3gQdO69vH18dK4fN0+GLz96uSzPCq99JArIgkagNTz7r9bB4DtcFsAAAABYktHRJUIYHqDAAAAB3RJTUUH5wIKESIRAg6dCwAAALtJREFUCNdjYGAUERUTl5CUkmZiZmFlY2CUkZULAAJ5BUUlZXYOBhXVADAIVFPX0NTiZNDWAXKCgkNCw8IjInX1GPSjomNi4+ITEpOSU1LTDBgM0zMys7JzcvPyCwqLio0YjKNKSstKyisqq6prautMGEwD6hsam5pbWtvaOzq7zBjMdbq7g3p6+/onTJw02cKSwcoaYt8UG1s7ewcuBm5HJ7B7nF1c3dx5eBn4uD08vbx9fP38+QUEhYQB5Z40RP8+e1wAAAAldEVYdGRhdGU6Y3JlYXRlADIwMjMtMDItMTBUMTc6MzM6NDUrMDA6MDCCLR1xAAAAJXRFWHRkYXRlOm1vZGlmeQAyMDIzLTAyLTEwVDE3OjI2OjU5KzAwOjAw393bowAAAABJRU5ErkJggg==\" alt=\"Open in WEkEO\"></a></div>\n",
    "    <div style=\"float:left\"><p>&emsp;</p></div>\n",
    "  </div>  \n",
    "\n",
    "  <div style=\"width:100%\">\n",
    "    <div style=\"float:left\"><a href=\"https://code.insula.destine.eu/hub/\"><img src=\"https://img.shields.io/badge/launch-DestinE-f43fd3.svg?style=flat&logo=data:image/svg+xml;base64,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\" alt=\"Open in DestinE\"></a></div>\n",
    "    <div style=\"float:left\"><p>&emsp;</p></div>\n",
    "  </div>  \n",
    "  \n",
    "</html>"
   ]
  },
  {
   "cell_type": "markdown",
   "metadata": {},
   "source": [
    "<div class=\"alert alert-block alert-success\">\n",
    "<h3>Sea surface temperature applications</h3></div>"
   ]
  },
  {
   "cell_type": "markdown",
   "metadata": {},
   "source": [
    "<div class=\"alert alert-block alert-warning\">\n",
    "    \n",
    "<b>PREREQUISITES </b>\n",
    "\n",
    "This notebook has the following prerequisites:\n",
    "- A **<a href=\"https://data.marine.copernicus.eu/register\" target=\"_blank\">Copernicus Marine Service (CMEMS) account</a>** to download data from the CMEMS Data Store\n",
    "\n",
    "There are no prerequisite notebooks for this module.\n",
    "\n",
    "<b>WHERE TO RUN THIS NOTEBOOK?</b>\n",
    "\n",
    "This notebook can be run on a local machine or on a remote cloud system, and is tested on WEkEO and the DestinE Insula Code services. You can use the buttons at the top of the notebook to access these platforms, but you will need a free account on whichever service you choose. Full instructions for how to set up this notebook is provided in the README. Running on Binder is not possible due to the size of dependencies.\n",
    "\n",
    "</div>\n",
    "<hr>"
   ]
  },
  {
   "cell_type": "markdown",
   "metadata": {},
   "source": [
    "# Selecting, exploring and validating sea surface temperature products\n",
    "<font color=\"#138D75\">**Devloped by EUMETSAT in support of the 2025 ESA OTC course**</font>\n",
    "\n",
    "### Data used\n",
    "\n",
    "| Dataset | EUMETSAT collection ID| EUMETSAT collection<br>description | Copernicus Marine Data Store product ID | Copernicus Marine product description | WEkEO dataset ID | WEkEO description |\n",
    "|:--------------------:|:-----------------------:|:-------------:|:-----------------:|:-----------------:|:-----------------:|:-----------------:|\n",
    "| Global OSTIA level 4 SST | - | - | SST_GLO_SST_L4_NRT_OBSERVATIONS_010_001 | <a href=\"https://data.marine.copernicus.eu/product/SST_GLO_SST_L4_NRT_OBSERVATIONS_010_001/description\" target=\"_blank\">Description</a> | EO:MO:DAT:SST_GLO_SST_L4_NRT_OBSERVATIONS_010_001 | <a href=\"https://www.wekeo.eu/data?view=dataset&dataset=EO%3AMO%3ADAT%3ASST_GLO_SST_L4_NRT_OBSERVATIONS_010_001\" target=\"_blank\">Description</a> |\n",
    "| Global ODYSSEA level 3 SST | - | - | SST_GLO_PHY_L4_NRT_010_043 | <a href=\"https://data.marine.copernicus.eu/product/SST_GLO_SST_L3S_NRT_OBSERVATIONS_010_010/description\" target=\"_blank\">Description</a> | EO:MO:DAT:SST_GLO_SST_L3S_NRT_OBSERVATIONS_010_010 | <a href=\"https://www.wekeo.eu/data?view=dataset&dataset=EO%3AMO%3ADAT%3ASST_GLO_SST_L3S_NRT_OBSERVATIONS_010_010\" target=\"_blank\">Description</a> |\n",
    "| Global physics analysis and forecast SST | - | - | GLOBAL_ANALYSISFORECAST_PHY_001_024 | <a href=\"https://data.marine.copernicus.eu/product/GLOBAL_ANALYSISFORECAST_PHY_001_024/description\" target=\"_blank\">Description</a> | EO:MO:DAT:GLOBAL_ANALYSISFORECAST_PHY_001_024 | <a href=\"https://www.wekeo.eu/data?view=dataset&dataset=EO%3AMO%3ADAT%3AGLOBAL_ANALYSISFORECAST_PHY_001_024\" target=\"_blank\">Description</a> |\n",
    "| Mediterranean Sea hourly subskin SST | - | - | SST_MED_PHY_SUBSKIN_L4_NRT_010_036 | <a href=\"https://data.marine.copernicus.eu/product/SST_MED_PHY_SUBSKIN_L4_NRT_010_036/description\" target=\"_blank\">Description</a> | EO:MO:DAT:SST_MED_PHY_SUBSKIN_L4_NRT_010_036 | <a href=\"https://www.wekeo.eu/data?view=dataset&dataset=EO%3AMO%3ADAT%3ASST_MED_PHY_SUBSKIN_L4_NRT_010_036\" target=\"_blank\">Description</a> |\n",
    "\n",
    "### Learning outcomes\n",
    "\n",
    "At the end of this notebook you will;\n",
    "* Recall some of the single- and multi-sensor SST products that are available.\n",
    "* Understand how to select the best SST product for your application and validate it.\n",
    "\n",
    "### Outline\n",
    "\n",
    "There are a great many different sea surface temperature (SST) products to choose from, and deciding which one is right for you needs can be challenging. There are various factors that you should consider when selecting a data set, and below we have listed some of the major points to consider;\n",
    "\n",
    "1. SST can be retrieved from space, derived from in situ observations or extracted from numerical models. Here, we will focus on the former, but it is important to remember that *in situ* data is required to validate remotely sensed products, and both sets of observations are often assimmilated into numerical models to both constrain them and support dynamical downscaling to higher resolutions.\n",
    "\n",
    "2. Spatial resolution and coverage. Do you need SST data at the highest resolution, as provided by single sensor products at level 2, or do you need the global coverage that tends to be provided by multi-sensor, lower-resolution, products at level 3? Can you accommodate gaps in your analysis or do you need level 4 products?\n",
    "\n",
    "3. Temporal resolution and coverage. Do you need daily data, twice-daily data (for diurnal cycle assessment) or will monthly data suffice? Do you intend to calculate anomlies, and if so, how long a time series do you need? If you are looking at trends, you may need a climate data record, which mandates a length of at least 30 years. Or are you rather interested in the hear-and-now that single sensor near-real time data can give you?\n",
    "\n",
    "4. At what depth do you want your measurements? This may seem a strange question when considering the idea of sea <b>SURFACE</b>, but in practice SST is retrieved, and distributed, at many depths, depending on the nature of the sensor used and the processing applied (Figure 1)\n",
    "\n",
    "<center><figure>\n",
    "  <img src='https://www.ghrsst.org/wp-content/uploads/2021/04/newerSSTdef.gif' align='centre' width='40%'/>\n",
    "  <img src=\"../../img/SST_diurnal.png\" width='52.5%'/>\n",
    "  <figcaption>Figure 1: GHRSST SST definitions (left) and a schematic representation of the evolution of their diurnal variability over the course of a few days (right).</figcaption>\n",
    "</figure></center>\n",
    "\n",
    "Bearing these considerations in mind, below we will take a look at some SST products, comparing them with *in situ* data taken from an example cruise with a view to lightly \"validating\" them for our purposes. The four products we will select are highlighted in the \"data used\" table at the top of this page. They range in type, depth, coverage, and spatial and temporal resolution. We will discuss them throughout the notebook.\n",
    "\n",
    "Before we begin you should note that this notebook can be run locally, or on a remote cloud system, by cloning the **<a href=\"https://gitlab.eumetsat.int/eumetlab/oceans/ocean-training/applications/sea-surface-temperature-applications\" target=\"_blank\">sea-surface-temperature-applications</a>** repository. The **<a href=\"https://gitlab.eumetsat.int/eumetlab/oceans/ocean-training/applications/sea-surface-temperature-applications/-/blob/main/README.md\" target=\"_blank\">README</a>** file will fully describe how to create an appropriate Python environment to run this code.\n",
    "\n",
    "**Note: to download the required EUMETSAT SLSTR data, you will need to register for a <a href=\"https://data.marine.copernicus.eu/register\" target=\"_blank\">Copernicus Marine Service (CMEMS) account</a> account. Please see the prerequisites for more information on how to do this**.\n",
    "\n",
    "<div class=\"alert alert-info\" role=\"alert\">\n",
    "\n",
    "## <a id='TOC_TOP'></a>Contents\n",
    "\n",
    "</div>\n",
    "    \n",
    "1. [Step 1: Setting up our analysis](#section1)\n",
    "1. [------: A quick preamble on functions](#section0)\n",
    "1. [Step 2: Loading and plotting our cruise tracks](#section2)\n",
    "1. [Step 3: Acquiring level 4 SST data from the Copernicus Marine Service](#section3)\n",
    "1. [Step 4: Viewing our SST \"data cube\"](#section4)\n",
    "1. [Step 5: Interpolating SST data along our track](#section5)\n",
    "1. [Step 6: Validating our data sets](#section6)\n",
    "1. [Step 7: Conclusions](#section7)\n",
    "\n",
    "<hr>"
   ]
  },
  {
   "cell_type": "markdown",
   "metadata": {
    "jp-MarkdownHeadingCollapsed": true
   },
   "source": [
    "<div class=\"alert alert-info\" role=\"alert\">\n",
    "\n",
    "## <a id='section1'></a>Step 1: Setting up our analysis\n",
    "[Back to top](#TOC_TOP)\n",
    "\n",
    "</div>"
   ]
  },
  {
   "cell_type": "markdown",
   "metadata": {},
   "source": [
    "We begin by importing all of the libraries that we need to run this notebook. If you have built your python using the environment file provided in this repository, then you should have everything you need. For more information on building environment, please see the repository **<a href=\"https://gitlab.eumetsat.int/eumetlab/oceans/ocean-training/applications/sea-surface-temperature-applications/-/blob/main/README.md\" target=\"_blank\">README</a>**."
   ]
  },
  {
   "cell_type": "code",
   "execution_count": 1,
   "metadata": {},
   "outputs": [],
   "source": [
    "import os                               # a library that allows us access to basic operating system commands\n",
    "import matplotlib.pyplot as plt         # a library that support plotting\n",
    "import datetime                         # a libary that allows us to work with dates and times\n",
    "import numpy as np                      # a library that lets us work with arrays; we import this with a new name \"np\"\n",
    "from pathlib import Path                # a library that helps construct system path objects\n",
    "import copernicusmarine                 # a library to help us access CMEMS data\n",
    "import cartopy                          # a library that support mapping\n",
    "from scipy.interpolate import interpn   # a library that supports irregular grid interpolation\n",
    "import pandas as pd                     # a library the support times series management\n",
    "import xarray as xr                     # a library that supports the use of multi-dimensional arrays in Python\n",
    "from xcube.webapi.viewer import Viewer  # a library that provides the Xcube viewer\n",
    "import warnings                         # a library that helps us handle warnings\n",
    "\n",
    "# turn off any script warnings\n",
    "warnings.filterwarnings('ignore')"
   ]
  },
  {
   "cell_type": "markdown",
   "metadata": {},
   "source": [
    "Lets set a couple of quick parameters that help us with handling data. `pad` will set a buffer around our cruise data when requesting SST data, and, for the sake of convenience, `cruise_point_min`, `cruise_point_max` and `cruise_subsample` will subsample our cruise data, which is at very high temporal resolution."
   ]
  },
  {
   "cell_type": "code",
   "execution_count": 2,
   "metadata": {},
   "outputs": [],
   "source": [
    "pad = 1\n",
    "cruise_point_min = 0\n",
    "cruise_point_max = -1\n",
    "cruise_subsample = 200"
   ]
  },
  {
   "cell_type": "markdown",
   "metadata": {
    "jp-MarkdownHeadingCollapsed": true
   },
   "source": [
    "<div class=\"alert alert-warning\" role=\"alert\">\n",
    "\n",
    "## <a id='section0'></a>A quick preamble on functions\n",
    "[Back to top](#TOC_TOP)\n",
    "\n",
    "</div>"
   ]
  },
  {
   "cell_type": "markdown",
   "metadata": {},
   "source": [
    "Before we start the notebook proper, we will define a quick function that we will use throughout. The function is quite simple and just adds embellishments (gridlines, labels etc) to plots."
   ]
  },
  {
   "cell_type": "code",
   "execution_count": 3,
   "metadata": {},
   "outputs": [],
   "source": [
    "def embellish_plot(m):\n",
    "    \"\"\"Quick function to embellish SLSTR plots with gridlines and labels\n",
    "\n",
    "    Args:\n",
    "        m (axis): the axis to plot into\n",
    "    Returns:\n",
    "        None\n",
    "    \"\"\"\n",
    "    # add some map embellishments\n",
    "    m.add_feature(cartopy.feature.NaturalEarthFeature('physical', 'land', '10m', edgecolor='k', facecolor='#546d51', linewidth=0.5), zorder=8)\n",
    "    g1 = m.gridlines(draw_labels = True, linestyle='--', zorder=10)\n",
    "    g1.top_labels = g1.right_labels = False\n",
    "    g1.xlabel_style = g1.ylabel_style = {'color': 'gray'}"
   ]
  },
  {
   "cell_type": "markdown",
   "metadata": {
    "jp-MarkdownHeadingCollapsed": true
   },
   "source": [
    "<div class=\"alert alert-info\" role=\"alert\">\n",
    "\n",
    "## <a id='section2'></a>Step 2: Loading and plotting our cruise track\n",
    "[Back to top](#TOC_TOP)\n",
    "\n",
    "</div>"
   ]
  },
  {
   "cell_type": "markdown",
   "metadata": {},
   "source": [
    "<figure>\n",
    "  <img src='../../img/Cruise_track.png' align='right' width='55%'/>\n",
    "</figure>\n",
    "\n",
    "Lets start by taking a look at the proposed cruise track for the Statsraad Lehmkuhl for the ESA OTC 2025 course, as shown on the right. Here, the markers show us the way points logged for the cruise, and not all the actual sampling positions. Of course, as this cruise is scheduled in the future we don't yet have any data to compare with SST products, so we will use another cruise that covers some of the same area as an example.\n",
    "\n",
    "For our test cruise, we will use the first leg AWI Polerstern expedition <a href=\"https://epic.awi.de/id/eprint/57671/1/Expeditionprogramme_PS135_1_PS135_2.pdf\">PS135</a> as it sampled northeastern Atlantic quite recently, in 2023, and at roughly the same time of year as our cruise (March/April). The cruise data is also freely available through <a href=\"https://doi.pangaea.de/10.1594/PANGAEA.964295\">Pangaea</a>, and incudes the underway data from a thermosalinograph running at a constant 11 m. We will use the temperature data from this instrument as the *in situ* data set for our analysis, but you could choose any other cruise to do the same analysis, provided you correctly map the data when you ingest it (more on this below).\n",
    "\n",
    "Lets read in the data from the cruise track, as stored in our \"tracks\" directory, using the `pandas` package (which we imported under the alias \"pd\"). Our specific cruise data is stored in the \"PS135_2_surf_oce.txt\" file, which includes a 29-line header description followed by a series of tab-separated columns containing our data. We need to specify the number of header rows rto skip them when reading the file, as well as the delimiter (in this case tab, or '\\t'). \n",
    "\n",
    "We will also subsample the output in time using our `cruise_subsample` parameter we set above."
   ]
  },
  {
   "cell_type": "code",
   "execution_count": 4,
   "metadata": {},
   "outputs": [],
   "source": [
    "df = pd.read_csv(os.path.join(os.getcwd(), \"tracks\", \"PS135_2_surf_oce.txt\"), header=29, delimiter='\\t')\n",
    "df = df[cruise_point_min:cruise_point_max:cruise_subsample]"
   ]
  },
  {
   "cell_type": "markdown",
   "metadata": {},
   "source": [
    "Lets check our data out..."
   ]
  },
  {
   "cell_type": "code",
   "execution_count": 5,
   "metadata": {},
   "outputs": [
    {
     "data": {
      "text/html": [
       "<div>\n",
       "<style scoped>\n",
       "    .dataframe tbody tr th:only-of-type {\n",
       "        vertical-align: middle;\n",
       "    }\n",
       "\n",
       "    .dataframe tbody tr th {\n",
       "        vertical-align: top;\n",
       "    }\n",
       "\n",
       "    .dataframe thead th {\n",
       "        text-align: right;\n",
       "    }\n",
       "</style>\n",
       "<table border=\"1\" class=\"dataframe\">\n",
       "  <thead>\n",
       "    <tr style=\"text-align: right;\">\n",
       "      <th></th>\n",
       "      <th>Date/Time</th>\n",
       "      <th>Latitude</th>\n",
       "      <th>Longitude</th>\n",
       "      <th>Depth water [m]</th>\n",
       "      <th>Temp [°C]</th>\n",
       "      <th>QF water temp</th>\n",
       "      <th>Cond [mS/cm]</th>\n",
       "      <th>T intern [°C]</th>\n",
       "      <th>Sal</th>\n",
       "      <th>QF sal</th>\n",
       "    </tr>\n",
       "  </thead>\n",
       "  <tbody>\n",
       "    <tr>\n",
       "      <th>0</th>\n",
       "      <td>2023-03-28T18:01:00</td>\n",
       "      <td>16.887517</td>\n",
       "      <td>-25.009311</td>\n",
       "      <td>11.0</td>\n",
       "      <td>23.684</td>\n",
       "      <td>2</td>\n",
       "      <td>53.099</td>\n",
       "      <td>23.719</td>\n",
       "      <td>36.035</td>\n",
       "      <td>2</td>\n",
       "    </tr>\n",
       "    <tr>\n",
       "      <th>200</th>\n",
       "      <td>2023-03-28T21:21:00</td>\n",
       "      <td>16.948758</td>\n",
       "      <td>-24.980284</td>\n",
       "      <td>11.0</td>\n",
       "      <td>23.881</td>\n",
       "      <td>1</td>\n",
       "      <td>53.319</td>\n",
       "      <td>23.941</td>\n",
       "      <td>36.022</td>\n",
       "      <td>1</td>\n",
       "    </tr>\n",
       "    <tr>\n",
       "      <th>400</th>\n",
       "      <td>2023-03-29T00:41:00</td>\n",
       "      <td>17.352052</td>\n",
       "      <td>-24.536896</td>\n",
       "      <td>11.0</td>\n",
       "      <td>23.341</td>\n",
       "      <td>1</td>\n",
       "      <td>52.961</td>\n",
       "      <td>23.350</td>\n",
       "      <td>36.231</td>\n",
       "      <td>1</td>\n",
       "    </tr>\n",
       "    <tr>\n",
       "      <th>600</th>\n",
       "      <td>2023-03-29T04:01:00</td>\n",
       "      <td>17.583502</td>\n",
       "      <td>-24.282108</td>\n",
       "      <td>11.0</td>\n",
       "      <td>23.490</td>\n",
       "      <td>1</td>\n",
       "      <td>53.180</td>\n",
       "      <td>23.529</td>\n",
       "      <td>36.252</td>\n",
       "      <td>1</td>\n",
       "    </tr>\n",
       "    <tr>\n",
       "      <th>800</th>\n",
       "      <td>2023-03-29T07:21:00</td>\n",
       "      <td>17.583379</td>\n",
       "      <td>-24.283035</td>\n",
       "      <td>11.0</td>\n",
       "      <td>23.467</td>\n",
       "      <td>1</td>\n",
       "      <td>53.166</td>\n",
       "      <td>23.500</td>\n",
       "      <td>36.265</td>\n",
       "      <td>1</td>\n",
       "    </tr>\n",
       "    <tr>\n",
       "      <th>...</th>\n",
       "      <td>...</td>\n",
       "      <td>...</td>\n",
       "      <td>...</td>\n",
       "      <td>...</td>\n",
       "      <td>...</td>\n",
       "      <td>...</td>\n",
       "      <td>...</td>\n",
       "      <td>...</td>\n",
       "      <td>...</td>\n",
       "      <td>...</td>\n",
       "    </tr>\n",
       "    <tr>\n",
       "      <th>17400</th>\n",
       "      <td>2023-04-09T20:03:00</td>\n",
       "      <td>51.014823</td>\n",
       "      <td>1.554941</td>\n",
       "      <td>11.0</td>\n",
       "      <td>9.548</td>\n",
       "      <td>1</td>\n",
       "      <td>37.597</td>\n",
       "      <td>9.568</td>\n",
       "      <td>34.908</td>\n",
       "      <td>1</td>\n",
       "    </tr>\n",
       "    <tr>\n",
       "      <th>17600</th>\n",
       "      <td>2023-04-09T23:23:00</td>\n",
       "      <td>51.418893</td>\n",
       "      <td>2.145017</td>\n",
       "      <td>11.0</td>\n",
       "      <td>9.425</td>\n",
       "      <td>1</td>\n",
       "      <td>37.554</td>\n",
       "      <td>9.455</td>\n",
       "      <td>34.973</td>\n",
       "      <td>1</td>\n",
       "    </tr>\n",
       "    <tr>\n",
       "      <th>17800</th>\n",
       "      <td>2023-04-10T02:43:00</td>\n",
       "      <td>51.893681</td>\n",
       "      <td>2.748989</td>\n",
       "      <td>11.0</td>\n",
       "      <td>9.020</td>\n",
       "      <td>1</td>\n",
       "      <td>36.977</td>\n",
       "      <td>9.051</td>\n",
       "      <td>34.767</td>\n",
       "      <td>1</td>\n",
       "    </tr>\n",
       "    <tr>\n",
       "      <th>18000</th>\n",
       "      <td>2023-04-10T06:03:00</td>\n",
       "      <td>52.336875</td>\n",
       "      <td>3.409363</td>\n",
       "      <td>11.0</td>\n",
       "      <td>8.534</td>\n",
       "      <td>1</td>\n",
       "      <td>36.256</td>\n",
       "      <td>8.563</td>\n",
       "      <td>34.485</td>\n",
       "      <td>1</td>\n",
       "    </tr>\n",
       "    <tr>\n",
       "      <th>18200</th>\n",
       "      <td>2023-04-10T09:23:00</td>\n",
       "      <td>52.735776</td>\n",
       "      <td>4.099208</td>\n",
       "      <td>11.0</td>\n",
       "      <td>8.344</td>\n",
       "      <td>1</td>\n",
       "      <td>35.526</td>\n",
       "      <td>8.371</td>\n",
       "      <td>33.898</td>\n",
       "      <td>1</td>\n",
       "    </tr>\n",
       "  </tbody>\n",
       "</table>\n",
       "<p>92 rows × 10 columns</p>\n",
       "</div>"
      ],
      "text/plain": [
       "                 Date/Time   Latitude  Longitude  Depth water [m]  Temp [°C]  \\\n",
       "0      2023-03-28T18:01:00  16.887517 -25.009311             11.0     23.684   \n",
       "200    2023-03-28T21:21:00  16.948758 -24.980284             11.0     23.881   \n",
       "400    2023-03-29T00:41:00  17.352052 -24.536896             11.0     23.341   \n",
       "600    2023-03-29T04:01:00  17.583502 -24.282108             11.0     23.490   \n",
       "800    2023-03-29T07:21:00  17.583379 -24.283035             11.0     23.467   \n",
       "...                    ...        ...        ...              ...        ...   \n",
       "17400  2023-04-09T20:03:00  51.014823   1.554941             11.0      9.548   \n",
       "17600  2023-04-09T23:23:00  51.418893   2.145017             11.0      9.425   \n",
       "17800  2023-04-10T02:43:00  51.893681   2.748989             11.0      9.020   \n",
       "18000  2023-04-10T06:03:00  52.336875   3.409363             11.0      8.534   \n",
       "18200  2023-04-10T09:23:00  52.735776   4.099208             11.0      8.344   \n",
       "\n",
       "       QF water temp  Cond [mS/cm]  T intern [°C]     Sal  QF sal  \n",
       "0                  2        53.099         23.719  36.035       2  \n",
       "200                1        53.319         23.941  36.022       1  \n",
       "400                1        52.961         23.350  36.231       1  \n",
       "600                1        53.180         23.529  36.252       1  \n",
       "800                1        53.166         23.500  36.265       1  \n",
       "...              ...           ...            ...     ...     ...  \n",
       "17400              1        37.597          9.568  34.908       1  \n",
       "17600              1        37.554          9.455  34.973       1  \n",
       "17800              1        36.977          9.051  34.767       1  \n",
       "18000              1        36.256          8.563  34.485       1  \n",
       "18200              1        35.526          8.371  33.898       1  \n",
       "\n",
       "[92 rows x 10 columns]"
      ]
     },
     "execution_count": 5,
     "metadata": {},
     "output_type": "execute_result"
    }
   ],
   "source": [
    "df"
   ]
  },
  {
   "cell_type": "markdown",
   "metadata": {},
   "source": [
    "As we can see, we have the spatial and temporal data for the tracks, as well as the \"Temp [°C]\" data we need to extract for comparison. The time record provided by `pandas` is a little hard to work with, we'll quickly define our own for later use."
   ]
  },
  {
   "cell_type": "code",
   "execution_count": 6,
   "metadata": {},
   "outputs": [],
   "source": [
    "cruise_times = [datetime.datetime.strptime(i, \"%Y-%m-%dT%H:%M:%S\") for i in df[\"Date/Time\"]]"
   ]
  },
  {
   "cell_type": "markdown",
   "metadata": {},
   "source": [
    "Lets take a look at our cruise track, plotting the track and the associated temperature signal from the thermosalinograph."
   ]
  },
  {
   "cell_type": "code",
   "execution_count": 7,
   "metadata": {},
   "outputs": [
    {
     "data": {
      "image/png": "[encoded data removed]",
      "text/plain": [
       "<Figure size 900x900 with 2 Axes>"
      ]
     },
     "metadata": {},
     "output_type": "display_data"
    }
   ],
   "source": [
    "# set up our figure\n",
    "fig, m = plt.subplots(1, 1, figsize=(6, 6), dpi=150, subplot_kw={\"projection\": cartopy.crs.PlateCarree()})\n",
    "\n",
    "# plot cruise track and data points\n",
    "p2, = m.plot(df[\"Longitude\"], df[\"Latitude\"], zorder=1, color='0.5', transform = cartopy.crs.PlateCarree())\n",
    "p3 = m.scatter(df[\"Longitude\"], df[\"Latitude\"], c=df[\"Temp [°C]\"], zorder=2, transform = cartopy.crs.PlateCarree(), cmap=\"magma\", edgecolor='k')\n",
    "\n",
    "# plot colorbar\n",
    "plt.colorbar(p3, label=\"Temperature [°C]\")\n",
    "\n",
    "# add some map embellishments\n",
    "embellish_plot(m)"
   ]
  },
  {
   "cell_type": "markdown",
   "metadata": {},
   "source": [
    "As expected, we can see the evolution of the tempererature with latitude, getting colder as we head North (the ship ends it voyage in Bremerhaven, Germany). As we have subsampled the data, we can't see much mesoscale variability, but we can zoom in on certain sections to see more features.\n",
    "\n",
    "<div class=\"alert alert-block alert-warning\">\n",
    "\n",
    "### Challenge:\n",
    "\n",
    "Try playing with the plotting settings subset the data in different ways to look at specific regions more closely. e.g. try:\n",
    "* cruise_point_min = 5000, cruise_point_max = 6500, subsample = 10 to look at the Canary Islands, or\n",
    "* cruise_point_min = 12000, cruise_point_max = 14000, subsample = 10 to look at the north of the Bay of Biscay\n",
    "\n",
    "<div>"
   ]
  },
  {
   "cell_type": "markdown",
   "metadata": {
    "jp-MarkdownHeadingCollapsed": true
   },
   "source": [
    "<div class=\"alert alert-info\" role=\"alert\">\n",
    "\n",
    "## <a id='section3'></a>Step 3: Acquiring level 4 SST data from the Copernicus Marine Data Store\n",
    "[Back to top](#TOC_TOP)\n",
    "\n",
    "</div>"
   ]
  },
  {
   "cell_type": "markdown",
   "metadata": {},
   "source": [
    "Now we have our cruise data in scope, lets compare it to some SST products. The four selected products are all level 3, level 4 or analysis products, meaning that they exploit data from multiple sensors, which are usually provided at level 2. Level 2 data is normally on the instrument grid, which means it retains the highest spatial resolution. However, we need to process these products to a common grid, usually by binning, to make them interoperable. This costs us spatial resoluion, but greatly increases our coverage. OSTIA, for example, ingests single sensor infrared data from AVHRR (NOAA/MetOp), IASI (MetOp-A), SEVIRI (MSG-3), the GOES Imager (GOES-13), AATSR (ENVISAT), VIIRS (Suomi NPP/NOAA20) and SLSTR (Sentinel 3A/B), as well as microwave data and information from *in situ* sources!"
   ]
  },
  {
   "cell_type": "markdown",
   "metadata": {},
   "source": [
    "| Dataset | Type| Depth | Spatial resolution | Spatial coverage | Temporal resolution | Temporal coverage |\n",
    "|:--------------------:|:-----------------------:|:-------------:|:-----------------:|:-----------------:|:-----------------:|:-----------------:|\n",
    "| Global OSTIA level 4 SST | Gap-filled multi-sensor IR and MW observations + in situ | $SST_{fnd}$ | 0.05° | Global | Daily | 2007-2024 |\n",
    "| Global ODYSSEA level 3 SST | Multi-sensor IR and MW observation | $SST_{fnd}$ | 0.1° | Global | Daily | 2021-2024 |\n",
    "| Global physics analysis and forecast SST | Numerical model | $SST_{depth}$ | 1/12°| Global | Daily | 2020-2024 |\n",
    "| Mediterranean Sea hourly subskin SST | Multi-sensor observation | $SST_{subskin}$ | 0.0625° | Mediterranean Sea and Iberian margin | Hourly | 2019-2024 |"
   ]
  },
  {
   "cell_type": "markdown",
   "metadata": {},
   "source": [
    "All of these products can be found in the Copernicus Marine Data Store, as shown below. This can be accessed at <a href=\"https://data.marine.copernicus.eu/products\">https://data.marine.copernicus.eu/products</a>."
   ]
  },
  {
   "cell_type": "markdown",
   "metadata": {},
   "source": [
    "<img src='../../img/CMEMS_SST.png' align='right' width='100%'/>"
   ]
  },
  {
   "cell_type": "markdown",
   "metadata": {},
   "source": [
    "We'll retrieve these products using the `copernicusmarine` API to read the data directly into memory without the need to download them. Lets set up a quick Python 'dictionary' to collect all the information we need, including the productIDs, variables and depths to retrieve.\n",
    "\n",
    "*Note: depth is ignored if the product has no depth dimension.*"
   ]
  },
  {
   "cell_type": "code",
   "execution_count": 8,
   "metadata": {},
   "outputs": [],
   "source": [
    "SST_products = {}\n",
    "\n",
    "SST_products[\"OSTIA_L4\"] = {\"productID\": \"METOFFICE-GLO-SST-L4-NRT-OBS-SST-V2\", \"variables\" : [\"analysed_sst\"], \"depth\": 0}\n",
    "SST_products[\"ODYSSEA_L3\"] = {\"productID\": \"IFREMER-GLOB-SST-L3-NRT-OBS_FULL_TIME_SERIE\", \"variables\" : [\"adjusted_sea_surface_temperature\"], \"depth\": 0}\n",
    "SST_products[\"ANALYSIS\"] = {\"productID\": \"cmems_mod_glo_phy-thetao_anfc_0.083deg_PT6H-i\", \"variables\" : [\"thetao\"], \"depth\": 11.4}\n",
    "SST_products[\"SUBSKIN\"] = {\"productID\": \"cmems_obs-sst_med_phy-sst_nrt_diurnal-oi-0.0625deg_PT1H-m\", \"variables\" : [\"analysed_sst\"], \"depth\": 0}"
   ]
  },
  {
   "cell_type": "markdown",
   "metadata": {},
   "source": [
    "<div class=\"alert alert-block alert-success\">\n",
    "\n",
    "### Accessing Copernicus Marine Service products\n",
    "\n",
    "To retrieve the data, we need will use the <a href=\"https://help.marine.copernicus.eu/en/articles/7949409-copernicus-marine-toolbox-introduction\" target=\"_blank\">Copernicus Marine API</a>. This allows us to remotely subset the data and read it directly into memory, for immediate use. If you are working with the recommended Anaconda Python distribution and used the environment file included in this repository (environment.yml) to build this python environment (as detailed in the README), you will already have installed this. If not, you can install the toolkit using;\n",
    "\n",
    "`conda install -c conda-forge copernicusmarine`\n",
    "\n",
    "To download data using the Copernicus Marine API, you need to provide credentials. To obtain these, you should register at the <a href=\"https://data.marine.copernicus.eu/register\" target=\"_blank\">Copernicus Marine Service</a> for an account and take note of you `username` and `password`. If you do not already have a local credentials file, you will be prompted to enter your credentials when you run the cell below. This will create the required local credentials file, so that you only need to run this once.\n",
    "\n",
    "*Note: For more information on authentication options please see this <a href=\"https://help.marine.copernicus.eu/en/articles/8185007-copernicus-marine-toolbox-credentials-configuration\" target=\"_blank\">web article</a>.*\n",
    "\n",
    "</div>"
   ]
  },
  {
   "cell_type": "code",
   "execution_count": 9,
   "metadata": {},
   "outputs": [],
   "source": [
    "# Default location expected by the copernicusmarine package\n",
    "copernicus_marine_credentials_file = Path(Path.home() / '.copernicusmarine' / '.copernicusmarine-credentials')\n",
    "\n",
    "# Create it only if it does not already exists\n",
    "if not copernicus_marine_credentials_file.is_file():\n",
    "    copernicusmarine.login()"
   ]
  },
  {
   "cell_type": "markdown",
   "metadata": {},
   "source": [
    "Next, lets request our data based on the dictionary of parameters we described above and the extents of our cruise track. We'll iterate through each product and create `xarray` objects for each product."
   ]
  },
  {
   "cell_type": "code",
   "execution_count": null,
   "metadata": {},
   "outputs": [
    {
     "name": "stdout",
     "output_type": "stream",
     "text": [
      "Connecting to OSTIA_L4\n"
     ]
    },
    {
     "name": "stderr",
     "output_type": "stream",
     "text": [
      "INFO - 2024-12-03T14:26:16Z - Dataset version was not specified, the latest one was selected: \"default\"\n",
      "INFO - 2024-12-03T14:26:16Z - Dataset part was not specified, the first one was selected: \"default\"\n",
      "INFO - 2024-12-03T14:26:17Z - Service was not specified, the default one was selected: \"arco-geo-series\"\n"
     ]
    },
    {
     "name": "stdout",
     "output_type": "stream",
     "text": [
      "Connecting to ODYSSEA_L3\n"
     ]
    },
    {
     "name": "stderr",
     "output_type": "stream",
     "text": [
      "INFO - 2024-12-03T14:26:21Z - Dataset version was not specified, the latest one was selected: \"202211\"\n",
      "INFO - 2024-12-03T14:26:21Z - Dataset part was not specified, the first one was selected: \"default\"\n"
     ]
    }
   ],
   "source": [
    "ds = []\n",
    "for SST_product in SST_products:\n",
    "    print(f'Connecting to {SST_product}')\n",
    "    ds.append(copernicusmarine.open_dataset(\n",
    "           dataset_id = SST_products[SST_product][\"productID\"],\n",
    "           variables = SST_products[SST_product][\"variables\"],\n",
    "           minimum_longitude = min(df[\"Longitude\"]) - pad,\n",
    "           maximum_longitude = max(df[\"Longitude\"]) + pad,\n",
    "           minimum_latitude = min(df[\"Latitude\"]) - pad,\n",
    "           maximum_latitude = max(df[\"Latitude\"]) + pad,\n",
    "           minimum_depth = SST_products[SST_product][\"depth\"],\n",
    "           maximum_depth = SST_products[SST_product][\"depth\"],\n",
    "           start_datetime = min(cruise_times).strftime(\"%Y-%m-%dT00:00:00.000Z\"),\n",
    "           end_datetime = max(cruise_times).strftime(\"%Y-%m-%dT00:00:00.000Z\")))"
   ]
  },
  {
   "cell_type": "markdown",
   "metadata": {},
   "source": [
    "Note that, when retrieveing the last item, we are warned that some of our data lies outside the spatial coverage of the product.\n",
    "\n",
    "Lets take a look at the first of our four products..."
   ]
  },
  {
   "cell_type": "code",
   "execution_count": null,
   "metadata": {},
   "outputs": [],
   "source": [
    "ds[0]"
   ]
  },
  {
   "cell_type": "markdown",
   "metadata": {},
   "source": [
    "All looks ok, we are ready to start our data viewing, extraction and analysis."
   ]
  },
  {
   "cell_type": "markdown",
   "metadata": {
    "jp-MarkdownHeadingCollapsed": true
   },
   "source": [
    "<div class=\"alert alert-info\" role=\"alert\">\n",
    "\n",
    "## <a id='section4'></a>Step 4: Viewing our SST \"data cube\"\n",
    "[Back to top](#TOC_TOP)\n",
    "\n",
    "</div>"
   ]
  },
  {
   "cell_type": "markdown",
   "metadata": {},
   "source": [
    "We've actually subset our data as a latitude/longitude/time cube, rather than extracting a track. As these cubes are stored in a format called `Zarr` on the Copernicus Marine Service, we can actually interrogate them directly using the `xcube-viewer`. First we need to set up our viewer, as follows, setting a \"style\" foir each of our variables, and the extents of the colour mapping. Note that we have to define mappings for each of the variables we use (analysed_sst and adjusted_sea_surface_temperature are measured in K, and thetao is measured in degrees C)."
   ]
  },
  {
   "cell_type": "code",
   "execution_count": null,
   "metadata": {},
   "outputs": [],
   "source": [
    "viewer = Viewer(\n",
    "    server_config={\n",
    "        \"Styles\": [\n",
    "            {\n",
    "                \"Identifier\": \"SST\",\n",
    "                \"ColorMappings\": {\n",
    "                    \"analysed_sst\": {\"ValueRange\": [280, 300], \"ColorBar\": \"Spectral_r\"},\n",
    "                    \"adjusted_sea_surface_temperature\": {\"ValueRange\": [280, 300], \"ColorBar\": \"Spectral_r\"},                    \n",
    "                    \"thetao\": {\"ValueRange\": [10, 30], \"ColorBar\": \"Spectral_r\"},\n",
    "                },\n",
    "            }        \n",
    "        ]\n",
    "    }\n",
    ")"
   ]
  },
  {
   "cell_type": "markdown",
   "metadata": {},
   "source": [
    "Now we can add our datasets to the viewer and start exploring..."
   ]
  },
  {
   "cell_type": "code",
   "execution_count": null,
   "metadata": {},
   "outputs": [],
   "source": [
    "viewer.add_dataset(ds[0], title=\"OSTIA\", style=\"SST\")\n",
    "viewer.add_dataset(ds[1], title=\"ODYSSEA_L3\", style=\"SST\")\n",
    "viewer.add_dataset(ds[2], title=\"ANALYSIS\", style=\"SST\")\n",
    "viewer.add_dataset(ds[3], title=\"SUBSKIN\", style=\"SST\")\n",
    "viewer.show()"
   ]
  },
  {
   "cell_type": "markdown",
   "metadata": {},
   "source": [
    "You can use the viewer to explore these products in 3 dimension (lon/lat/time), selecting each \"Dataset\" from the left hand side of the menu bar. Although you see only one spatial 'slice' of the data, you can click on the product and see the time series for that point."
   ]
  },
  {
   "cell_type": "markdown",
   "metadata": {},
   "source": [
    "<div class=\"alert alert-block alert-warning\">\n",
    "\n",
    "### Challenge:\n",
    "\n",
    "Take some time to explore the products.\n",
    "1. See what evidence you can find in the products for various phenomena, including: front systems, eddies, coastal upwelling and cold water entrainment and the effects of wind on the sea surface.\n",
    "1. See what differences you can see between the products, remembering that you have data at different spatial and temporal resolutions (daily vs hourly)\n",
    "<div>"
   ]
  },
  {
   "cell_type": "markdown",
   "metadata": {
    "jp-MarkdownHeadingCollapsed": true
   },
   "source": [
    "<div class=\"alert alert-info\" role=\"alert\">\n",
    "\n",
    "## <a id='section5'></a>Step 5: Interpolating SST data along our track\n",
    "[Back to top](#TOC_TOP)\n",
    "\n",
    "</div>"
   ]
  },
  {
   "cell_type": "markdown",
   "metadata": {},
   "source": [
    "Now that we have prepared and explored our SST datacubes, we wan't to extract the tracks that correspond to our cruise. To do this, we will perform a linear interpolation in space and time. The first step in this process is to define some `xarray` objects that correspond to our cruise track data. This is done in the cell below."
   ]
  },
  {
   "cell_type": "code",
   "execution_count": null,
   "metadata": {},
   "outputs": [],
   "source": [
    "lon = xr.DataArray(df[\"Longitude\"], dims='z')\n",
    "lat = xr.DataArray(df[\"Latitude\"], dims='z')\n",
    "time_array = xr.DataArray(cruise_times, dims='z')"
   ]
  },
  {
   "cell_type": "markdown",
   "metadata": {},
   "source": [
    "Now we can go ahead and extract these points from each of the SST products. This cell has quite a bit of work to do, so may take a couple of minutes to run on some systems. "
   ]
  },
  {
   "cell_type": "code",
   "execution_count": null,
   "metadata": {},
   "outputs": [],
   "source": [
    "interpolated_results = []\n",
    "for ii in range(len(ds)):\n",
    "    print(f\"Performing interpolation on product {ii+1}\")\n",
    "    interpolated_results.append(ds[ii].interp(latitude=lat, longitude=lon, time=time_array, method=\"linear\"))"
   ]
  },
  {
   "cell_type": "markdown",
   "metadata": {},
   "source": [
    "Finally, we will correct all the data so that it is in degrees Celsius so that we can compare it with the underway thermosalinograph time series."
   ]
  },
  {
   "cell_type": "code",
   "execution_count": null,
   "metadata": {},
   "outputs": [],
   "source": [
    "SST_1 = interpolated_results[0]['analysed_sst'].values - 273.15\n",
    "SST_2 = interpolated_results[1]['adjusted_sea_surface_temperature'].values - 273.15\n",
    "SST_3 = np.squeeze(interpolated_results[2]['thetao'].values)\n",
    "SST_4 = interpolated_results[3]['analysed_sst'].values - 273.15"
   ]
  },
  {
   "cell_type": "markdown",
   "metadata": {},
   "source": [
    "<div class=\"alert alert-info\" role=\"alert\">\n",
    "\n",
    "## <a id='section6'></a>Step 6: Validating our data sets\n",
    "[Back to top](#TOC_TOP)\n",
    "\n",
    "</div>"
   ]
  },
  {
   "cell_type": "markdown",
   "metadata": {},
   "source": [
    "In the last step of our analysis, we will show the comparison of the data. Lets start by plotting the along-track SST data for each product."
   ]
  },
  {
   "cell_type": "code",
   "execution_count": null,
   "metadata": {},
   "outputs": [],
   "source": [
    "# set up our figure\n",
    "fig, axs = plt.subplots(2, 2, figsize=(10, 10), dpi=150, subplot_kw={\"projection\": cartopy.crs.PlateCarree()})\n",
    "\n",
    "# plot cruise track\n",
    "for m, SST, label in zip(axs.ravel(), [SST_1, SST_2, SST_3, SST_4], SST_products):\n",
    "    p1, = m.plot(df[\"Longitude\"], df[\"Latitude\"], zorder=1, color='0.5', transform = cartopy.crs.PlateCarree())\n",
    "    p3 = m.scatter(df[\"Longitude\"], df[\"Latitude\"], c=SST, zorder=2, transform = cartopy.crs.PlateCarree(), cmap=\"magma\", edgecolor='k', vmin=5, vmax=30)\n",
    "    # plot colorbar\n",
    "    plt.colorbar(p3, label=f\"SST {label} [°C]\")\n",
    "    # add some map embellishments\n",
    "    embellish_plot(m)"
   ]
  },
  {
   "cell_type": "markdown",
   "metadata": {},
   "source": [
    "At this resolution, beyond the obvious missing data for some products, the general patterns in SST look roughly the same. But, lets take a closer look at the time series. In the next box we will replot the data, comparing the cruise track thermosalinograph data (black line) with the extracted SST data (red line), as well as showing the anomalies between the two (red dashed line)."
   ]
  },
  {
   "cell_type": "code",
   "execution_count": null,
   "metadata": {},
   "outputs": [],
   "source": [
    "fig, axs = plt.subplots(2, 2, figsize=(12, 10), dpi=150)\n",
    "\n",
    "for ax, SST, label in zip(axs.ravel(), [SST_1, SST_2, SST_3, SST_4], SST_products):\n",
    "    p1, = ax.plot(cruise_times, df[\"Temp [°C]\"], 'k')\n",
    "    p2, = ax.plot(cruise_times, SST, 'r')\n",
    "    plt.sca(ax)\n",
    "    plt.xticks(rotation=45)\n",
    "    plt.ylabel(\"SST [°C]\")\n",
    "    \n",
    "    ax2 = ax.twinx()\n",
    "    p3, = ax2.plot(cruise_times, df[\"Temp [°C]\"] - SST, 'r--', linewidth=0.5)\n",
    "    ax2.plot(cruise_times, df[\"Temp [°C]\"]*0, 'k--', linewidth=0.5)\n",
    "    plt.ylabel(\"SST anomaly [°C]\")\n",
    "    plt.ylim([-2, 2])\n",
    "    plt.title(label)\n",
    "\n",
    "    plt.legend([p1, p2, p3], ['Thermosalinograph', 'SST', 'anomaly'],  loc=3, frameon=False)\n",
    "    \n",
    "fig.tight_layout()"
   ]
  },
  {
   "cell_type": "markdown",
   "metadata": {},
   "source": [
    "Here, some of the differences become much more apparent. There is broad agreement between the OSTIA and ODYSSEA products, though we can see from the anomaly that there are some small differences, which could be attributed to differences in spatial resolution, the sensors incorporated, or the approach used to combine the data, or the spatially interpolation OSTIA uses to get to level 4. The ANALYSIS product has slightly larger anomalies than the OSTIA signal, but there does not appear to be a significant bias.\n",
    "\n",
    "The largest anoamlies occur when comparing against the SUBSKIN product. However, this is entirely unsurprising given that the thermosalinography measures at 11 m, which is very likely deeper than the impact of the duirnal warming that is definitely captured in the sub skin. Here we can see the clearest example of comparing two products that are not the same measurement, highlighting the care that has to be taken when considering these analyses!"
   ]
  },
  {
   "cell_type": "markdown",
   "metadata": {},
   "source": [
    "<div class=\"alert alert-block alert-warning\">\n",
    "\n",
    "### Challenge:\n",
    "\n",
    "In the above example, we have set our subsampling paramter to an arbitrary value to make data analysis easier. It is worth exploring the above to see what happens if you select a smaller subset, but keep the time base so that you see the diurnal cycling in the SUBSKIN product and can compare that to the foundation temperature in the other products, and thermosalinograph temperatures from the cruise. You could also choose specific areas to see how more dynamical regions are captured by each product and determine how missing data effects your analysis.\n",
    "<div>"
   ]
  },
  {
   "cell_type": "markdown",
   "metadata": {
    "jp-MarkdownHeadingCollapsed": true
   },
   "source": [
    "<div class=\"alert alert-info\" role=\"alert\">\n",
    "\n",
    "## <a id='section7'></a>Step 7: Conclusions\n",
    "[Back to top](#TOC_TOP)\n",
    "\n",
    "</div>"
   ]
  },
  {
   "cell_type": "markdown",
   "metadata": {
    "jp-MarkdownHeadingCollapsed": true
   },
   "source": [
    "Choosing an SST product is not a simple task and we have seen above that differences in temporal and spatial resolution and coverage, depth, retrieval methodology and interpolation can effect the results of your analysis. Rather than choosing the easiest product to work with, the fundamental question you should be asking is \"what is the correct product to address my question?\". Perhaps it is a global scale, gap filled product for assessing basin scale evolution over time. Or perhaps it is a single sensor skin, or merged subskin product that will allow you to assess diurnal variability. In either case, you should consider the in situ instrumentation you have at your disposal when you think about how to compare these products synthetically.\n",
    "\n",
    "For authorative information on the selection and use of SST datasets, we recommend consulting the information provided by the <a href=\"https://www.ghrsst.org/\">Group for High Resolution SST (GHRSST)</a>. GHRSST coordinates SST providers and provides guidance for standardisation of products, and is the \"go to\" organisation for information on all things SST if you are considering working with these products in the future.\n",
    "\n",
    "As you work through this notebook, feel free to contact us with any questions you may have about using the code, working with SST products and your OTC projects."
   ]
  },
  {
   "cell_type": "markdown",
   "metadata": {},
   "source": [
    "##  \n",
    "<hr>\n",
    "<a href=\"../../Index.ipynb\" target=\"_blank\"><< Index</a>\n",
    "<br>\n",
    "<a href=\"../Quality_and_cloud/Thermal_image_interpretation_SST_estimation.ipynb\"><< Thermal image interpretation and estimation of sea surface temperature\n",
    "</a>\n",
    "<hr>\n",
    "<a href=\"https://gitlab.eumetsat.int/eumetlab/ocean\" target=\"_blank\">View on GitLab</a> | <a href=\"https://training.eumetsat.int/\" target=\"_blank\">EUMETSAT Training</a> | <a href=mailto:ops@eumetsat.int target=\"_blank\">Contact helpdesk for support </a> | <a href=mailto:training@eumetsat.int target=\"_blank\">Contact our training team to collaborate on and reuse this material</a></span></p>"
   ]
  }
 ],
 "metadata": {
  "author": "Ben Loveday, Hayley Evers-King, Gary Corlett",
  "content_type": "Software & code",
  "data_access": [
   "Data Store",
   "WEkEO",
   "DestinE"
  ],
  "deployment": {
   "eumetsat": {
    "binder": {
     "link": "",
     "service_contact": "ops@eumetsat.int",
     "service_provider": "EUMETSAT"
    },
    "git": {
     "link": "",
     "service_contact": "ops@eumetsat.int",
     "service_provider": "EUMETSAT"
    }
   },
   "wekeo": {
    "git": {
     "link": "",
     "service_contact": "ops@eumetsat.int",
     "service_provider": "EUMETSAT"
    },
    "url": {
     "link": "",
     "service_contact": "ops@eumetsat.int",
     "service_provider": "EUMETSAT"
    }
   }
  },
  "description": "This Jupyter Notebook investigates the selection, explorating and validation of sea surface temperature products.",
  "image": "../../img/thumbs/Selecting_exploring_validating_SST_products_thumb.png",
  "kernelspec": {
   "display_name": "Python 3 (ipykernel)",
   "language": "python",
   "name": "python3"
  },
  "language_info": {
   "codemirror_mode": {
    "name": "ipython",
    "version": 3
   },
   "file_extension": ".py",
   "mimetype": "text/x-python",
   "name": "python",
   "nbconvert_exporter": "python",
   "pygments_lexer": "ipython3",
   "version": "3.10.15"
  },
  "license": "MIT",
  "metadata_schema_version": "2.0.0",
  "originator": "EUMETSAT",
  "tags": {
   "data_provider": [
    "EUMETSAT",
    "CMEMS"
   ],
   "orbit": " ",
   "satellite": [
    "Sentinel-3",
    "Global OSTIA L4 sea surface temperature",
    "Global ODYSSEA L3 sea surface temperature",
    "Global physics analysis ands forecast L4 sea surface temperature",
    "Mediterranean Sea hourly subskin sea surface temperature"
   ],
   "sensor": [
    "SLSTR (Sentinel-3)",
    "Multisensor"
   ],
   "service": "Sea surface temperature",
   "subtheme": "Climate system monitoring - Ocean",
   "theme": "Marine",
   "variable": "Sea surface temperature"
  },
  "title": "Selecting, exploring and validating sea surface temperature products",
  "version": "1.0.0",
  "version_date": "2024-12-03"
 },
 "nbformat": 4,
 "nbformat_minor": 4
}
