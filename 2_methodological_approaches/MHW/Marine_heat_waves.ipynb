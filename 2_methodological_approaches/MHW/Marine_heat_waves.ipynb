{
 "cells": [
  {
   "cell_type": "markdown",
   "metadata": {},
   "source": [
    "<img src='https://gitlab.eumetsat.int/eumetlab/oceans/ocean-training/tools/frameworks/-/raw/main/img/Standard_banner.png' align='right' width='100%'/>"
   ]
  },
  {
   "cell_type": "markdown",
   "metadata": {},
   "source": [
    "<a href=\"../../../Index.ipynb\"><< Index</a>\n",
    "<br>"
   ]
  },
  {
   "cell_type": "markdown",
   "metadata": {},
   "source": [
    "<font color=\"#138D75\">**Copernicus Marine Training Service**</font> <br>\n",
    "**Copyright:** 2024 European Union <br>\n",
    "**License:** MIT <br>\n",
    "**Authors:** Ben Loveday (EUMETSAT/Innoflair UG), Hayley Evers-King (EUMETSAT)"
   ]
  },
  {
   "cell_type": "markdown",
   "metadata": {},
   "source": [
    "<html>\n",
    "  <div style=\"width:100%\">\n",
    "    <div style=\"float:left\"><a href=\"https://gitlab.eumetsat.int/eumetlab/oceans/ocean-training/applications/ocean-case-studies\"><img src=\"https://img.shields.io/badge/open-EUMETLAB-E67E22.svg?style=flat&logo=data:image/png;base64,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\" alt=\"Open in EUMETLAB\"></a></div>\n",
    "    <div style=\"float:left\"><p>&emsp;</p></div>\n",
    "  </div>\n",
    "  \n",
    "  <div style=\"width:100%\">\n",
    "    <div style=\"float:left\"><a href=\"https://mybinder.org/v2/git/https%3A%2F%2Fgitlab.eumetsat.int%2Feumetlab%2Foceans%2Focean-training%2Fapplications%2ocean-case-studies/HEAD?urlpath=%2Ftree%2FCase_studies%2FCSM_ocean%2FMed_MHW_2023%2FMed_MHW.ipynb\"><img src=\"https://mybinder.org/badge_logo.svg\" alt=\"Open in Binder\"></a></div>\n",
    "    <div style=\"float:left\"><p>&emsp;</p></div>\n",
    "  </div>\n",
    "\n",
    "</html>"
   ]
  },
  {
   "cell_type": "markdown",
   "metadata": {},
   "source": [
    "<div class=\"alert alert-block alert-success\">\n",
    "<h3>Ocean case studies</h3></div>"
   ]
  },
  {
   "cell_type": "markdown",
   "metadata": {},
   "source": [
    "<div class=\"alert alert-block alert-warning\">\n",
    "    \n",
    "<b>PREREQUISITES </b>\n",
    "\n",
    "This notebook has the following prerequisites:\n",
    "- **<a href=\"https://data.marine.copernicus.eu/register\" target=\"_blank\">A Copernicus Marine Service (CMEMS) account</a>** to download data from the CMEMS Data Store\n",
    "\n",
    "There are no prerequisite notebooks for this module, but you may wish to look at the following notebooks on using level-2 SLSTR and level-4 OSTIA/C3S SST data; <br>\n",
    "\n",
    "- **<a href=\"../Atl_Med_anomalies/Atlantic_Med_SST_anomalies.ipynb\" target=\"_blank\">Sea surface temperature anomalies in the Northern Atlantic and Mediterranean Sea</a>**\n",
    "- **<a href=\"https://gitlab.eumetsat.int/eumetlab/oceans/ocean-training/sensors/learn-SLSTR\" target=\"_blank\">Learn SLSTR (EUMETSAT Gitlab)</a>**\n",
    "\n",
    "</div>\n",
    "<hr>"
   ]
  },
  {
   "cell_type": "markdown",
   "metadata": {},
   "source": [
    "# Marine heatwaves in the Mediterranean Sea\n",
    "\n",
    "### <a id='dataused'>Data used\n",
    "\n",
    "| Dataset | EUMETSAT Data Store<br>collection ID | EUMETSAT collection<br>description | WEkEO dataset ID | WEkEO description | Copernicus Marine<br>Data Store product ID | Copernicus Marine<br>product description |\n",
    "|:--------------------:|:-----------------------:|:-------------:|:-----------------:|:-----------------:|:-----------------:|:-----------------:|\n",
    "| Global OSTIA SST (Reprocessed) | - | - | EO:MO:DAT:SST_GLO_SST_L4_REP_OBSERVATIONS_010_011 | <a href=\"https://www.wekeo.eu/data?view=dataset&dataset=EO%3AMO%3ADAT%3ASST_GLO_SST_L4_REP_OBSERVATIONS_010_011\" target=\"_blank\">Description</a> | SST_GLO_SST_L4_REP_OBSERVATIONS_010_011 | <a href=\"https://data.marine.copernicus.eu/product/SST_GLO_SST_L4_REP_OBSERVATIONS_010_011/description\" target=\"_blank\">Description</a>|\n",
    "| ESA SST CCI and C3S reprocessed sea surface temperature analyses | - | - | EO:MO:DAT:SST_GLO_SST_L4_REP_OBSERVATIONS_010_024 | <a href=\"https://www.wekeo.eu/data?view=dataset&dataset=EO%3AMO%3ADAT%3ASST_GLO_SST_L4_REP_OBSERVATIONS_010_024\" target=\"_blank\">Description</a> | SST_GLO_SST_L4_REP_OBSERVATIONS_010_024 | <a href=\"https://data.marine.copernicus.eu/product/SST_GLO_SST_L4_REP_OBSERVATIONS_010_024/description\" target=\"_blank\">Description</a>|\n",
    "\n",
    "### Learning outcomes\n",
    "\n",
    "At the end of this notebook you will know;\n",
    "* where level-2 sea surface temperature (SST) data sets from EUMETSAT contributes to downstream Copernicus Marine Service products\n",
    "* how to download level-4 SST products from the Copernicus Marine Service using the **Copernicus Marine API** client\n",
    "* use time series of satellite SST data to investigate marine heatwaves using the `xmhw` package\n",
    "\n",
    "### Outline\n",
    "\n",
    "Concurrent with the past century's persistent warming of global oceans, marine heatwaves (periods of extreme regional ocean warming) have become more frequent and more extreme [[1]](#ref1). They occur in many areas around the world, from the Pacific Ocean to the Atlantic Ocean to the Mediterranean Sea [[2]](#ref2). Marine heatwaves can occur over thousands to millions of square kilometres, can persist for weeks to months, and can occur over significant depth. \n",
    "\n",
    "<figure><center>\n",
    "  <img src='https://tos.org/oceanography/assets/images/content/31-2_hobday_f2.jpg' width='75%'/>\n",
    "  <figcaption><a id='figure1'>Figure 1: Marine heat wave characterisations (Credit: <a href=\"https://www.researchgate.net/publication/325504331_Categorizing_and_Naming_Marine_Heatwaves\" target=\"_blank\">Hobday et al., 2018, CC-BY</a>)</figcaption>\n",
    "</center></figure>\n",
    "\n",
    "Marine heatwaves are generally defined as as period of abnormally high ocean temperatures, relative to a regional and seasonal average determined over time and can be categorised according to their severity ([Figure 1](#figure1)). Impacts of marine heatwaves include:\n",
    "* Impact on air-sea flux of CO2\n",
    "* Tropical cyclone formation\n",
    "* Coral bleaching [[3]](#ref3)\n",
    "* Mammal and sea bird mortality\n",
    "* Harmful Algal Blooms\n",
    "* Spatiotemporal shifts in habitats (affecting fisheries).\n",
    "\n",
    "A thorough review of biological impacts of marine heatwaves can be found in Smith et al. (2023) [[4]](#ref4).\n",
    "\n",
    "The exact statistical methodology used can vary, depending on the relation between the extreme heat and the impact of interest. In this notebook we will use a package called <a href=\"https://xmhw.readthedocs.io/en/latest/gettingstarted.html\" target=\"_blank\">**xmhw**</a>, an `xarray` based adaptation of the marine heatwave toolkit developed by Hobday et al. (2016) [[5]](#ref5), to identify marine heatwaves in the Mediterranean Sea. We are going to perform our analyses using two level-4 SST records, the global OSTIA reprocessed data set (SST foundation temperature, SST$_{fnd}$), and the combined the global ESA CCI and Copernicus Climate Change service (C3S) reprocessed data set (SST at 20 cm), which also uses the OSTIA processor. Both data sets are available through the Copernicus Marine Service and you can find more information on them in the [Data Used](#dataused) section, above. **Both** of these data sets ingest data level-2 SST data from the <a href=\"https://user.eumetsat.int/data/satellites/sentinel-3/sea-surface-temperature-service\" target=\"_blank\">Sea and Land Surface Temperature Radiometer</a> (SLSTR) aboard Copernicus Sentinel-3, operated by EUMETSAT, as well as level-2 SST data from the AVHRR sensor aboard <a href=\"https://user.eumetsat.int/data/satellites/metop/data\" target=\"_blank\">Metop</a> and sea ice information from the <a href=\"https://osi-saf.eumetsat.int/\" target=\"_blank\">EUMETSAT Ocean and Sea Ice Satellite Application Facility (OSI SAF)</a>.\n",
    "\n",
    "#### References\n",
    "\n",
    "1. <a id='ref1'></a><a href=\"https://www.science.org/doi/10.1126/science.aba0690\" target=\"_blank\">Laufkötter, C., Zscheischler, J., & Frölicher, T. L. (2020). High-impact marine heatwaves attributable to human-induced global warming. Science, 369(6511), 1621-1625.</a>\n",
    "2. <a id='ref2'></a><a href=\"https://egusphere.copernicus.org/preprints/2022/egusphere-2022-1119/\" target=\"_blank\">Guinaldo, T., Voldoire, A., Waldman, R., Saux Picart, S., & Roquet, H. (2023). Response of the sea surface temperature to heatwaves during the France 2022 meteorological summer. Ocean Science, 19(3), 629-647.</a>\n",
    "3. <a id='ref3'><a href=\"https://www.mdpi.com/2072-4292/12/23/3856\" target=\"_blank\">Skirving, W., Marsh, B., De La Cour, J., Liu, G., Harris, A., Maturi, E., ... & Eakin, C. M. (2020). CoralTemp and the coral reef watch coral bleaching heat stress product suite version 3.1. Remote Sensing, 12(23), 3856.</a>\n",
    "4. <a id='ref4'><a href=\"https://www.annualreviews.org/doi/full/10.1146/annurev-marine-032122-121437\" target=\"_blank\">Smith, K. E., Burrows, M. T., Hobday, A. J., King, N. G., Moore, P. J., Sen Gupta, A., ... & Smale, D. A. (2023). Biological impacts of marine heatwaves. Annual Review of Marine Science, 15, 119-145.</a>\n",
    "5. <a id='ref5'><a href=\"https://www.sciencedirect.com/science/article/abs/pii/S0079661116000057b\" target=\"_blank\">Hobday, A. J., Alexander, L. V., Perkins, S. E., Smale, D. A., Straub, S. C., Oliver, E. C., ... & Wernberg, T. (2016). A hierarchical approach to defining marine heatwaves. Progress in oceanography, 141, 227-238.</a>\n",
    "6. <a id='ref6'><a href=\"https://www.nature.com/articles/s41467-018-03732-9\" target=\"_blank\">Oliver, E. C., Donat, M. G., Burrows, M. T., Moore, P. J., Smale, D. A., Alexander, L. V., ... & Wernberg, T. (2018). Longer and more frequent marine heatwaves over the past century. Nature communications, 9(1), 1-12.</a>\n",
    "7. <a id='ref7'><a href=\"https://www.nature.com/articles/s43247-024-01239-4\" target=\"_blank\">Choi, H. Y., Park, M. S., Kim, H. S., & Lee, S. (2024). Marine heatwave events strengthen the intensity of tropical cyclones. Communications Earth & Environment, 5(1), 69.</a>\n",
    "8. <a id='ref8'><a href=\"https://www.nature.com/articles/s41598-020-63650-z\" target=\"_blank\">Cheung, W. W., & Frölicher, T. L. (2020). Marine heatwaves exacerbate climate change impacts for fisheries in the northeast Pacific. Scientific reports, 10(1), 6678.</a>\n",
    "\n",
    "\n",
    "\n",
    "<div class=\"alert alert-info\" role=\"alert\">\n",
    "\n",
    "## <a id='TOCTOP'></a>Contents\n",
    "\n",
    "</div>\n",
    "\n",
    " 1. [Setting up our analysis](#section1)\n",
    " 1. [Viewing remote level-4 SST data from the Copernicus Marine Service](#section2)\n",
    " 1. [Downloading level-4 SST data from the Copernicus Marine Service](#section3)\n",
    " 1. [Loading and preparing the SST data sets](#section4)\n",
    " 1. [Comparing climatologies](#section5)\n",
    " 1. [Determining heatwave thresholds](#section6)\n",
    " 1. [Identifying heatwaves](#section7)\n",
    " 1. [Conclusions](#section8)\n",
    "\n",
    "<hr>"
   ]
  },
  {
   "cell_type": "markdown",
   "metadata": {},
   "source": [
    "<div class=\"alert alert-info\" role=\"alert\">\n",
    "\n",
    "## <a id='section1'></a>1. Setting up our analysis\n",
    "[Back to top](#TOCTOP)\n",
    "\n",
    "</div>"
   ]
  },
  {
   "cell_type": "markdown",
   "metadata": {},
   "source": [
    "In this section we will set up all the parameters we need to run our notebook.\n",
    "\n",
    "We begin by importing all of the libraries that we need to run this notebook. If you have built your python using the environment file provided in this repository, then you should have everything you need. For more information on building environment, please see the repository **<a href=\"../../../../README.md\" target=\"_blank\">README</a>**. If you are running on WEkEO, you should ensure that you have selected the \"**miniwekeolab**\" environment/ipkernel using the menu option on the top right of the panel.\n",
    "\n",
    "The key library, `xmhw`, allows us to calculate marine heatwaves based on Hobday et al. (2016) [[5]](#ref5)</a>. For more information on this package, please see the **<a href=\"https://github.com/coecms/xmhw\" target=\"_blank\">xmhw</a>** GitHub pages."
   ]
  },
  {
   "cell_type": "code",
   "execution_count": 1,
   "metadata": {},
   "outputs": [
    {
     "data": {
      "text/html": [
       "<style>\n",
       "        .bk-notebook-logo {\n",
       "            display: block;\n",
       "            width: 20px;\n",
       "            height: 20px;\n",
       "            background-image: url(data:image/png;base64,iVBORw0KGgoAAAANSUhEUgAAABQAAAAUCAYAAACNiR0NAAAABHNCSVQICAgIfAhkiAAAAAlwSFlzAAALEgAACxIB0t1+/AAAABx0RVh0U29mdHdhcmUAQWRvYmUgRmlyZXdvcmtzIENTNui8sowAAAOkSURBVDiNjZRtaJVlGMd/1/08zzln5zjP1LWcU9N0NkN8m2CYjpgQYQXqSs0I84OLIC0hkEKoPtiH3gmKoiJDU7QpLgoLjLIQCpEsNJ1vqUOdO7ppbuec5+V+rj4ctwzd8IIbbi6u+8f1539dt3A78eXC7QizUF7gyV1fD1Yqg4JWz84yffhm0qkFqBogB9rM8tZdtwVsPUhWhGcFJngGeWrPzHm5oaMmkfEg1usvLFyc8jLRqDOMru7AyC8saQr7GG7f5fvDeH7Ej8CM66nIF+8yngt6HWaKh7k49Soy9nXurCi1o3qUbS3zWfrYeQDTB/Qj6kX6Ybhw4B+bOYoLKCC9H3Nu/leUTZ1JdRWkkn2ldcCamzrcf47KKXdAJllSlxAOkRgyHsGC/zRday5Qld9DyoM4/q/rUoy/CXh3jzOu3bHUVZeU+DEn8FInkPBFlu3+nW3Nw0mk6vCDiWg8CeJaxEwuHS3+z5RgY+YBR6V1Z1nxSOfoaPa4LASWxxdNp+VWTk7+4vzaou8v8PN+xo+KY2xsw6une2frhw05CTYOmQvsEhjhWjn0bmXPjpE1+kplmmkP3suftwTubK9Vq22qKmrBhpY4jvd5afdRA3wGjFAgcnTK2s4hY0/GPNIb0nErGMCRxWOOX64Z8RAC4oCXdklmEvcL8o0BfkNK4lUg9HTl+oPlQxdNo3Mg4Nv175e/1LDGzZen30MEjRUtmXSfiTVu1kK8W4txyV6BMKlbgk3lMwYCiusNy9fVfvvwMxv8Ynl6vxoByANLTWplvuj/nF9m2+PDtt1eiHPBr1oIfhCChQMBw6Aw0UulqTKZdfVvfG7VcfIqLG9bcldL/+pdWTLxLUy8Qq38heUIjh4XlzZxzQm19lLFlr8vdQ97rjZVOLf8nclzckbcD4wxXMidpX30sFd37Fv/GtwwhzhxGVAprjbg0gCAEeIgwCZyTV2Z1REEW8O4py0wsjeloKoMr6iCY6dP92H6Vw/oTyICIthibxjm/DfN9lVz8IqtqKYLUXfoKVMVQVVJOElGjrnnUt9T9wbgp8AyYKaGlqingHZU/uG2NTZSVqwHQTWkx9hxjkpWDaCg6Ckj5qebgBVbT3V3NNXMSiWSDdGV3hrtzla7J+duwPOToIg42ChPQOQjspnSlp1V+Gjdged7+8UN5CRAV7a5EdFNwCjEaBR27b3W890TE7g24NAP/mMDXRWrGoFPQI9ls/MWO2dWFAar/xcOIImbbpA3zgAAAABJRU5ErkJggg==);\n",
       "        }\n",
       "    </style>\n",
       "    <div>\n",
       "        <a href=\"https://bokeh.org\" target=\"_blank\" class=\"bk-notebook-logo\"></a>\n",
       "        <span id=\"fceb0f0f-9ad2-40df-bb98-6e2a8b846d4d\">Loading BokehJS ...</span>\n",
       "    </div>\n"
      ]
     },
     "metadata": {},
     "output_type": "display_data"
    },
    {
     "data": {
      "application/javascript": "(function(root) {\n  function now() {\n    return new Date();\n  }\n\n  const force = true;\n\n  if (typeof root._bokeh_onload_callbacks === \"undefined\" || force === true) {\n    root._bokeh_onload_callbacks = [];\n    root._bokeh_is_loading = undefined;\n  }\n\nconst JS_MIME_TYPE = 'application/javascript';\n  const HTML_MIME_TYPE = 'text/html';\n  const EXEC_MIME_TYPE = 'application/vnd.bokehjs_exec.v0+json';\n  const CLASS_NAME = 'output_bokeh rendered_html';\n\n  /**\n   * Render data to the DOM node\n   */\n  function render(props, node) {\n    const script = document.createElement(\"script\");\n    node.appendChild(script);\n  }\n\n  /**\n   * Handle when an output is cleared or removed\n   */\n  function handleClearOutput(event, handle) {\n    const cell = handle.cell;\n\n    const id = cell.output_area._bokeh_element_id;\n    const server_id = cell.output_area._bokeh_server_id;\n    // Clean up Bokeh references\n    if (id != null && id in Bokeh.index) {\n      Bokeh.index[id].model.document.clear();\n      delete Bokeh.index[id];\n    }\n\n    if (server_id !== undefined) {\n      // Clean up Bokeh references\n      const cmd_clean = \"from bokeh.io.state import curstate; print(curstate().uuid_to_server['\" + server_id + \"'].get_sessions()[0].document.roots[0]._id)\";\n      cell.notebook.kernel.execute(cmd_clean, {\n        iopub: {\n          output: function(msg) {\n            const id = msg.content.text.trim();\n            if (id in Bokeh.index) {\n              Bokeh.index[id].model.document.clear();\n              delete Bokeh.index[id];\n            }\n          }\n        }\n      });\n      // Destroy server and session\n      const cmd_destroy = \"import bokeh.io.notebook as ion; ion.destroy_server('\" + server_id + \"')\";\n      cell.notebook.kernel.execute(cmd_destroy);\n    }\n  }\n\n  /**\n   * Handle when a new output is added\n   */\n  function handleAddOutput(event, handle) {\n    const output_area = handle.output_area;\n    const output = handle.output;\n\n    // limit handleAddOutput to display_data with EXEC_MIME_TYPE content only\n    if ((output.output_type != \"display_data\") || (!Object.prototype.hasOwnProperty.call(output.data, EXEC_MIME_TYPE))) {\n      return\n    }\n\n    const toinsert = output_area.element.find(\".\" + CLASS_NAME.split(' ')[0]);\n\n    if (output.metadata[EXEC_MIME_TYPE][\"id\"] !== undefined) {\n      toinsert[toinsert.length - 1].firstChild.textContent = output.data[JS_MIME_TYPE];\n      // store reference to embed id on output_area\n      output_area._bokeh_element_id = output.metadata[EXEC_MIME_TYPE][\"id\"];\n    }\n    if (output.metadata[EXEC_MIME_TYPE][\"server_id\"] !== undefined) {\n      const bk_div = document.createElement(\"div\");\n      bk_div.innerHTML = output.data[HTML_MIME_TYPE];\n      const script_attrs = bk_div.children[0].attributes;\n      for (let i = 0; i < script_attrs.length; i++) {\n        toinsert[toinsert.length - 1].firstChild.setAttribute(script_attrs[i].name, script_attrs[i].value);\n        toinsert[toinsert.length - 1].firstChild.textContent = bk_div.children[0].textContent\n      }\n      // store reference to server id on output_area\n      output_area._bokeh_server_id = output.metadata[EXEC_MIME_TYPE][\"server_id\"];\n    }\n  }\n\n  function register_renderer(events, OutputArea) {\n\n    function append_mime(data, metadata, element) {\n      // create a DOM node to render to\n      const toinsert = this.create_output_subarea(\n        metadata,\n        CLASS_NAME,\n        EXEC_MIME_TYPE\n      );\n      this.keyboard_manager.register_events(toinsert);\n      // Render to node\n      const props = {data: data, metadata: metadata[EXEC_MIME_TYPE]};\n      render(props, toinsert[toinsert.length - 1]);\n      element.append(toinsert);\n      return toinsert\n    }\n\n    /* Handle when an output is cleared or removed */\n    events.on('clear_output.CodeCell', handleClearOutput);\n    events.on('delete.Cell', handleClearOutput);\n\n    /* Handle when a new output is added */\n    events.on('output_added.OutputArea', handleAddOutput);\n\n    /**\n     * Register the mime type and append_mime function with output_area\n     */\n    OutputArea.prototype.register_mime_type(EXEC_MIME_TYPE, append_mime, {\n      /* Is output safe? */\n      safe: true,\n      /* Index of renderer in `output_area.display_order` */\n      index: 0\n    });\n  }\n\n  // register the mime type if in Jupyter Notebook environment and previously unregistered\n  if (root.Jupyter !== undefined) {\n    const events = require('base/js/events');\n    const OutputArea = require('notebook/js/outputarea').OutputArea;\n\n    if (OutputArea.prototype.mime_types().indexOf(EXEC_MIME_TYPE) == -1) {\n      register_renderer(events, OutputArea);\n    }\n  }\n  if (typeof (root._bokeh_timeout) === \"undefined\" || force === true) {\n    root._bokeh_timeout = Date.now() + 5000;\n    root._bokeh_failed_load = false;\n  }\n\n  const NB_LOAD_WARNING = {'data': {'text/html':\n     \"<div style='background-color: #fdd'>\\n\"+\n     \"<p>\\n\"+\n     \"BokehJS does not appear to have successfully loaded. If loading BokehJS from CDN, this \\n\"+\n     \"may be due to a slow or bad network connection. Possible fixes:\\n\"+\n     \"</p>\\n\"+\n     \"<ul>\\n\"+\n     \"<li>re-rerun `output_notebook()` to attempt to load from CDN again, or</li>\\n\"+\n     \"<li>use INLINE resources instead, as so:</li>\\n\"+\n     \"</ul>\\n\"+\n     \"<code>\\n\"+\n     \"from bokeh.resources import INLINE\\n\"+\n     \"output_notebook(resources=INLINE)\\n\"+\n     \"</code>\\n\"+\n     \"</div>\"}};\n\n  function display_loaded() {\n    const el = document.getElementById(\"fceb0f0f-9ad2-40df-bb98-6e2a8b846d4d\");\n    if (el != null) {\n      el.textContent = \"BokehJS is loading...\";\n    }\n    if (root.Bokeh !== undefined) {\n      if (el != null) {\n        el.textContent = \"BokehJS \" + root.Bokeh.version + \" successfully loaded.\";\n      }\n    } else if (Date.now() < root._bokeh_timeout) {\n      setTimeout(display_loaded, 100)\n    }\n  }\n\n  function run_callbacks() {\n    try {\n      root._bokeh_onload_callbacks.forEach(function(callback) {\n        if (callback != null)\n          callback();\n      });\n    } finally {\n      delete root._bokeh_onload_callbacks\n    }\n    console.debug(\"Bokeh: all callbacks have finished\");\n  }\n\n  function load_libs(css_urls, js_urls, callback) {\n    if (css_urls == null) css_urls = [];\n    if (js_urls == null) js_urls = [];\n\n    root._bokeh_onload_callbacks.push(callback);\n    if (root._bokeh_is_loading > 0) {\n      console.debug(\"Bokeh: BokehJS is being loaded, scheduling callback at\", now());\n      return null;\n    }\n    if (js_urls == null || js_urls.length === 0) {\n      run_callbacks();\n      return null;\n    }\n    console.debug(\"Bokeh: BokehJS not loaded, scheduling load and callback at\", now());\n    root._bokeh_is_loading = css_urls.length + js_urls.length;\n\n    function on_load() {\n      root._bokeh_is_loading--;\n      if (root._bokeh_is_loading === 0) {\n        console.debug(\"Bokeh: all BokehJS libraries/stylesheets loaded\");\n        run_callbacks()\n      }\n    }\n\n    function on_error(url) {\n      console.error(\"failed to load \" + url);\n    }\n\n    for (let i = 0; i < css_urls.length; i++) {\n      const url = css_urls[i];\n      const element = document.createElement(\"link\");\n      element.onload = on_load;\n      element.onerror = on_error.bind(null, url);\n      element.rel = \"stylesheet\";\n      element.type = \"text/css\";\n      element.href = url;\n      console.debug(\"Bokeh: injecting link tag for BokehJS stylesheet: \", url);\n      document.body.appendChild(element);\n    }\n\n    for (let i = 0; i < js_urls.length; i++) {\n      const url = js_urls[i];\n      const element = document.createElement('script');\n      element.onload = on_load;\n      element.onerror = on_error.bind(null, url);\n      element.async = false;\n      element.src = url;\n      console.debug(\"Bokeh: injecting script tag for BokehJS library: \", url);\n      document.head.appendChild(element);\n    }\n  };\n\n  function inject_raw_css(css) {\n    const element = document.createElement(\"style\");\n    element.appendChild(document.createTextNode(css));\n    document.body.appendChild(element);\n  }\n\n  const js_urls = [\"https://cdn.bokeh.org/bokeh/release/bokeh-3.2.1.min.js\", \"https://cdn.bokeh.org/bokeh/release/bokeh-gl-3.2.1.min.js\", \"https://cdn.bokeh.org/bokeh/release/bokeh-widgets-3.2.1.min.js\", \"https://cdn.bokeh.org/bokeh/release/bokeh-tables-3.2.1.min.js\", \"https://cdn.bokeh.org/bokeh/release/bokeh-mathjax-3.2.1.min.js\"];\n  const css_urls = [];\n\n  const inline_js = [    function(Bokeh) {\n      Bokeh.set_log_level(\"info\");\n    },\nfunction(Bokeh) {\n    }\n  ];\n\n  function run_inline_js() {\n    if (root.Bokeh !== undefined || force === true) {\n          for (let i = 0; i < inline_js.length; i++) {\n      inline_js[i].call(root, root.Bokeh);\n    }\nif (force === true) {\n        display_loaded();\n      }} else if (Date.now() < root._bokeh_timeout) {\n      setTimeout(run_inline_js, 100);\n    } else if (!root._bokeh_failed_load) {\n      console.log(\"Bokeh: BokehJS failed to load within specified timeout.\");\n      root._bokeh_failed_load = true;\n    } else if (force !== true) {\n      const cell = $(document.getElementById(\"fceb0f0f-9ad2-40df-bb98-6e2a8b846d4d\")).parents('.cell').data().cell;\n      cell.output_area.append_execute_result(NB_LOAD_WARNING)\n    }\n  }\n\n  if (root._bokeh_is_loading === 0) {\n    console.debug(\"Bokeh: BokehJS loaded, going straight to plotting\");\n    run_inline_js();\n  } else {\n    load_libs(css_urls, js_urls, function() {\n      console.debug(\"Bokeh: BokehJS plotting callback run at\", now());\n      run_inline_js();\n    });\n  }\n}(window));",
      "application/vnd.bokehjs_load.v0+json": ""
     },
     "metadata": {},
     "output_type": "display_data"
    }
   ],
   "source": [
    "import bokeh.plotting as bk             # a library that supports interactive plotting\n",
    "import bokeh.models as bm               # a library that supports interactive plotting models\n",
    "import bokeh.io as bi                   # a library that supports interactive plotting display options\n",
    "import copernicusmarine                 # a library to help us access CMEMS data\n",
    "import getpass                          # a library to help us enter passwords\n",
    "import numpy as np                      # a library that lets us work with arrays; we import this with a new name \"np\"\n",
    "import os                               # a library that allows us access to basic operating system commands\n",
    "from pathlib import Path                # a library that helps construct system path objects\n",
    "from scipy import stats                 # a library that supports statistical analysis\n",
    "import warnings                         # a library the helps us to manage warnings\n",
    "import xarray as xr                     # a powerful library that helps us work efficiently with multi-dimensional arrays\n",
    "from xcube.webapi.viewer import Viewer  # a library that provides the Xcube viewer\n",
    "from xmhw.xmhw import detect, threshold # a library that support Xarray calculation of marine heatwaves, based on Hobday et al. 2016 <<<\n",
    "\n",
    "# turn off warnings and initialise bokeh\n",
    "warnings.filterwarnings(\"ignore\")\n",
    "bk.output_notebook()\n",
    "\n",
    "# set Xcube server if running on WEkEO\n",
    "if \"WEKEO_DATABROKER_URL\" in os.environ:\n",
    "    os.environ[\"XCUBE_JUPYTER_LAB_URL\"] = f\"https://jupyterhub.prod.wekeo2.eu/user/{os.environ['JUPYTERHUB_USER']}/\""
   ]
  },
  {
   "cell_type": "markdown",
   "metadata": {},
   "source": [
    "We now have access to all the libraries that we need to run our analysis. Nothing else will be imported during this notebook.\n",
    "\n",
    "We are going to study an area of the western Mediterannean Sea around Sardinia and Corsica over a 30 year period. Below we will define the spatial extent of our region of interest `ROI` and the time period we are interested in. We will define the latter by specifying the `final_year` of the analysis and the number of years (`n_years`) to consider. The approach here uses a **shifting baseline**, but you can adapt it to use a **fixed baseline** by selecting your start year explicitly to build your climatology."
   ]
  },
  {
   "cell_type": "code",
   "execution_count": 2,
   "metadata": {},
   "outputs": [],
   "source": [
    "# defining our bounding box (W, E, S, N)\n",
    "ROI = [3.0, 8.5, 41.0, 44.5]\n",
    "\n",
    "# defining our temporal bounds\n",
    "final_year = 2021\n",
    "n_years = 20"
   ]
  },
  {
   "cell_type": "markdown",
   "metadata": {},
   "source": [
    "Lets now specify the Copernicus Marine Service (CMEMS) data sets that we are interested in. We are interested in two data sets, as described above. We are going to store all the information associated with these data sets in a `dictionary` that has two primary keys or `tags`, *OSTIA* and *CCI_C3S*.\n",
    "\n",
    "This dictionary will hold the information on the `sources` for each data, which point to the unique ID of the data set in the CMEMS Data Stoire. It will also hold information on the file name (`savefile`) that we will write the data to when we download it. Finally, we will specify the `variables` we want to retrieve.\n",
    "\n",
    "*Note: we are downloading data from two `sources` in the *CCI_C3S* case. The data in the two sources is comparable, but spans different times period, and so we will concatenate these into a single time series before we perform our analysis.*"
   ]
  },
  {
   "cell_type": "code",
   "execution_count": 3,
   "metadata": {},
   "outputs": [],
   "source": [
    "# Set tags to identify datasets\n",
    "tags = [\"OSTIA\", \"CCI_C3S\"]\n",
    "\n",
    "# create dictionary\n",
    "datasets = {}\n",
    "for tag in tags:\n",
    "    datasets[tag] = {}\n",
    "\n",
    "# store information on our data requirements in the dictionary\n",
    "datasets[\"OSTIA\"][\"sources\"] = \"METOFFICE-GLO-SST-L4-REP-OBS-SST\"\n",
    "datasets[\"OSTIA\"][\"savefile\"] = \"SST_OSTIA.nc\"\n",
    "\n",
    "datasets[\"CCI_C3S\"][\"sources\"] = [\"ESACCI-GLO-SST-L4-REP-OBS-SST\", \"C3S-GLO-SST-L4-REP-OBS-SST\"]\n",
    "datasets[\"CCI_C3S\"][\"savefile\"] = \"SST_CCI_C3S.nc\"\n",
    "\n",
    "# set the variable we wish to retrieve\n",
    "variables = [\"analysed_sst\"]"
   ]
  },
  {
   "cell_type": "markdown",
   "metadata": {},
   "source": [
    "Lastly, let us set a switch (`download_data`) that determines if we should download new data or use what we already have. If you are running this script for the first time this should eb set to True, but you can set it to False for future iterations if you want to adapt and run the script again with existing data."
   ]
  },
  {
   "cell_type": "code",
   "execution_count": 4,
   "metadata": {},
   "outputs": [],
   "source": [
    "download_data = True"
   ]
  },
  {
   "cell_type": "markdown",
   "metadata": {},
   "source": [
    "<div class=\"alert alert-warning\" role=\"alert\">\n",
    "\n",
    "## <a id='section99'></a>Defining functions\n",
    "[Back to top](#TOCTOP)\n",
    "\n",
    "</div>"
   ]
  },
  {
   "cell_type": "markdown",
   "metadata": {},
   "source": [
    "#### Defining a quick function to plot marine heatwave occurences\n",
    "\n",
    "Before we move on to our analysis, we are going to define a quick function for use later on. We define functions when we have some code that we want to use repeatedly later on. In this case, the function, `plot_MHW_zone`, will be called in section 7 and used to highlight areas that show marine heatwaves. You don't need to worry about how this function works, and so it is hidden by default. You can click on the \"+1 cell hidden\" box below if you want to see it."
   ]
  },
  {
   "cell_type": "code",
   "execution_count": 5,
   "metadata": {},
   "outputs": [],
   "source": [
    "def plot_MWH_zone(axis, t1, t2, times, scaling, norm_scaling):\n",
    "    \"\"\"Function to highlight marine heatwave periods.\n",
    "    \n",
    "    Args:\n",
    "        axis: the axis to plot into\n",
    "        t1,t2: the start and end time of the marine heat wave period\n",
    "        times: the time variable\n",
    "        normalised_intensity: the intensity of the heatwave (0-1; used to scale the colour)\n",
    "    Returns:\n",
    "        None\n",
    "    \"\"\"\n",
    "    start_date = times.time[int(t1)].dt.date.values\n",
    "    end_date = times.time[int(t2 + 1)].dt.date.values\n",
    "    length = int(t2) - int(t1) + 1\n",
    "    index = int(t_values.tolist().index(t1) / 2 + 1)\n",
    "    \n",
    "    # Prepare the data to plot\n",
    "    data_MHW = bm.ColumnDataSource(data=dict(\n",
    "            x=np.array(times.time[int(t1) : int(t2 + 1)]),\n",
    "            y1=np.array(times[int(t1) : int(t2 + 1)]),\n",
    "            y2=np.full(length, 10)))\n",
    "\n",
    "    fill_color = '#%02x%02x%02x' % (int(norm_scaling* 255), 1, 1)\n",
    "    \n",
    "    # Fill the required area\n",
    "    v_area = p_MHW.varea(\"x\", \"y1\", \"y2\", source=data_MHW, fill_color=fill_color,\n",
    "                         hover_alpha=0.9, alpha=0.6)\n",
    "\n",
    "    # Add a hovertool to the zone\n",
    "    p_MHW.add_tools(bm.HoverTool(renderers=[v_area], tooltips=[\n",
    "                (\"Index\", f\"{index}\"), (\"Dates\", f\"{start_date} - {end_date}\"),\n",
    "                (\"Duration\", f\"{length} days\"),\n",
    "                (\"Category/Intensity\", f\"{float(scaling)}\")],\n",
    "            formatters={\"@start\": \"datetime\", \"@end\": \"datetime\"}, toggleable=False))"
   ]
  },
  {
   "cell_type": "markdown",
   "metadata": {},
   "source": [
    "<div class=\"alert alert-info\" role=\"alert\">\n",
    "\n",
    "## <a id='section2'></a>2. Viewing remote level-4 SST data from the Copernicus Marine Service\n",
    "[Back to top](#TOCTOP)\n",
    "\n",
    "</div>"
   ]
  },
  {
   "cell_type": "markdown",
   "metadata": {},
   "source": [
    "To begin our analysis, we will access data from the Copernicus Marine Service using the Copernicus Marine API. In this section, we will load the data directly into memory, without the need to download it to a file."
   ]
  },
  {
   "cell_type": "markdown",
   "metadata": {},
   "source": [
    "<div class=\"alert alert-block alert-success\">\n",
    "\n",
    "### Accessing Copernicus Marine Service products\n",
    "\n",
    "To retrieve the data, we need will use the <a href=\"https://help.marine.copernicus.eu/en/articles/7949409-copernicus-marine-toolbox-introduction\" target=\"_blank\">Copernicus Marine API</a>. This allows us to remotely subset the data and read it directly into memory, for immediate use. If you are working with the recommended Anaconda Python distribution and used the environment file included in this repository (environment.yml) to build this python environment (as detailed in the README), you will already have installed this. If not, you can install the toolkit using;\n",
    "\n",
    "`conda install -c conda-forge copernicusmarine`\n",
    "\n",
    "To download data using the Copernicus Marine API, you need to provide credentials. To obtain these, you should register at the <a href=\"https://data.marine.copernicus.eu/register\" target=\"_blank\">Copernicus Marine Service</a> for an account and take note of you `username` and `password`. If you do not already have a local credentials file, you will be prompted to enter your credentials when you run the cell below. This will create the required local credentials file, so that you only need to run this once.\n",
    "\n",
    "*Note: For more information on authentication options please see this <a href=\"https://help.marine.copernicus.eu/en/articles/8185007-copernicus-marine-toolbox-credentials-configuration\" target=\"_blank\">web article</a>.*\n",
    "\n",
    "</div>"
   ]
  },
  {
   "cell_type": "code",
   "execution_count": 6,
   "metadata": {},
   "outputs": [],
   "source": [
    "# Default location expected by the copernicusmarine package\n",
    "copernicus_marine_credentials_file = Path(Path.home() / '.copernicusmarine' / '.copernicusmarine-credentials')\n",
    "\n",
    "# Create it only if it does not already exists\n",
    "if not copernicus_marine_credentials_file.is_file():\n",
    "    copernicusmarine.login()"
   ]
  },
  {
   "cell_type": "markdown",
   "metadata": {},
   "source": [
    "Now we have authenticated the `copernicusmarine` API, we can go ahead and launch our first data retrieval using the `open_dataset` method. You can see in cell below we use the information we set in [Section1](#section1) to specify the data set, variable and spatio-temporal coverage of our request. The result will be stored in an `xarray` Dataset"
   ]
  },
  {
   "cell_type": "code",
   "execution_count": 7,
   "metadata": {},
   "outputs": [
    {
     "name": "stderr",
     "output_type": "stream",
     "text": [
      "Fetching catalog: 100%|███████████████████████████| 3/3 [00:10<00:00,  3.45s/it]\n"
     ]
    },
    {
     "name": "stdout",
     "output_type": "stream",
     "text": [
      "INFO - 2024-05-29T13:19:45Z - Dataset version was not specified, the latest one was selected: \"202003\"\n",
      "INFO - 2024-05-29T13:19:45Z - Dataset part was not specified, the first one was selected: \"default\"\n",
      "INFO - 2024-05-29T13:19:46Z - Service was not specified, the default one was selected: \"arco-time-series\"\n"
     ]
    }
   ],
   "source": [
    "ds = copernicusmarine.open_dataset(\n",
    "    dataset_id=datasets[\"OSTIA\"][\"sources\"],\n",
    "    variables=variables,\n",
    "    minimum_longitude=ROI[0],\n",
    "    maximum_longitude=ROI[1],\n",
    "    minimum_latitude=ROI[2],\n",
    "    maximum_latitude=ROI[3],\n",
    "    start_datetime= f\"{final_year - n_years}-01-01\",\n",
    "    end_datetime= f\"{final_year}-12-31\")"
   ]
  },
  {
   "cell_type": "markdown",
   "metadata": {},
   "source": [
    "Lets look at our result..."
   ]
  },
  {
   "cell_type": "code",
   "execution_count": 8,
   "metadata": {},
   "outputs": [
    {
     "data": {
      "text/html": [
       "<div><svg style=\"position: absolute; width: 0; height: 0; overflow: hidden\">\n",
       "<defs>\n",
       "<symbol id=\"icon-database\" viewBox=\"0 0 32 32\">\n",
       "<path d=\"M16 0c-8.837 0-16 2.239-16 5v4c0 2.761 7.163 5 16 5s16-2.239 16-5v-4c0-2.761-7.163-5-16-5z\"></path>\n",
       "<path d=\"M16 17c-8.837 0-16-2.239-16-5v6c0 2.761 7.163 5 16 5s16-2.239 16-5v-6c0 2.761-7.163 5-16 5z\"></path>\n",
       "<path d=\"M16 26c-8.837 0-16-2.239-16-5v6c0 2.761 7.163 5 16 5s16-2.239 16-5v-6c0 2.761-7.163 5-16 5z\"></path>\n",
       "</symbol>\n",
       "<symbol id=\"icon-file-text2\" viewBox=\"0 0 32 32\">\n",
       "<path d=\"M28.681 7.159c-0.694-0.947-1.662-2.053-2.724-3.116s-2.169-2.030-3.116-2.724c-1.612-1.182-2.393-1.319-2.841-1.319h-15.5c-1.378 0-2.5 1.121-2.5 2.5v27c0 1.378 1.122 2.5 2.5 2.5h23c1.378 0 2.5-1.122 2.5-2.5v-19.5c0-0.448-0.137-1.23-1.319-2.841zM24.543 5.457c0.959 0.959 1.712 1.825 2.268 2.543h-4.811v-4.811c0.718 0.556 1.584 1.309 2.543 2.268zM28 29.5c0 0.271-0.229 0.5-0.5 0.5h-23c-0.271 0-0.5-0.229-0.5-0.5v-27c0-0.271 0.229-0.5 0.5-0.5 0 0 15.499-0 15.5 0v7c0 0.552 0.448 1 1 1h7v19.5z\"></path>\n",
       "<path d=\"M23 26h-14c-0.552 0-1-0.448-1-1s0.448-1 1-1h14c0.552 0 1 0.448 1 1s-0.448 1-1 1z\"></path>\n",
       "<path d=\"M23 22h-14c-0.552 0-1-0.448-1-1s0.448-1 1-1h14c0.552 0 1 0.448 1 1s-0.448 1-1 1z\"></path>\n",
       "<path d=\"M23 18h-14c-0.552 0-1-0.448-1-1s0.448-1 1-1h14c0.552 0 1 0.448 1 1s-0.448 1-1 1z\"></path>\n",
       "</symbol>\n",
       "</defs>\n",
       "</svg>\n",
       "<style>/* CSS stylesheet for displaying xarray objects in jupyterlab.\n",
       " *\n",
       " */\n",
       "\n",
       ":root {\n",
       "  --xr-font-color0: var(--jp-content-font-color0, rgba(0, 0, 0, 1));\n",
       "  --xr-font-color2: var(--jp-content-font-color2, rgba(0, 0, 0, 0.54));\n",
       "  --xr-font-color3: var(--jp-content-font-color3, rgba(0, 0, 0, 0.38));\n",
       "  --xr-border-color: var(--jp-border-color2, #e0e0e0);\n",
       "  --xr-disabled-color: var(--jp-layout-color3, #bdbdbd);\n",
       "  --xr-background-color: var(--jp-layout-color0, white);\n",
       "  --xr-background-color-row-even: var(--jp-layout-color1, white);\n",
       "  --xr-background-color-row-odd: var(--jp-layout-color2, #eeeeee);\n",
       "}\n",
       "\n",
       "html[theme=dark],\n",
       "body[data-theme=dark],\n",
       "body.vscode-dark {\n",
       "  --xr-font-color0: rgba(255, 255, 255, 1);\n",
       "  --xr-font-color2: rgba(255, 255, 255, 0.54);\n",
       "  --xr-font-color3: rgba(255, 255, 255, 0.38);\n",
       "  --xr-border-color: #1F1F1F;\n",
       "  --xr-disabled-color: #515151;\n",
       "  --xr-background-color: #111111;\n",
       "  --xr-background-color-row-even: #111111;\n",
       "  --xr-background-color-row-odd: #313131;\n",
       "}\n",
       "\n",
       ".xr-wrap {\n",
       "  display: block !important;\n",
       "  min-width: 300px;\n",
       "  max-width: 700px;\n",
       "}\n",
       "\n",
       ".xr-text-repr-fallback {\n",
       "  /* fallback to plain text repr when CSS is not injected (untrusted notebook) */\n",
       "  display: none;\n",
       "}\n",
       "\n",
       ".xr-header {\n",
       "  padding-top: 6px;\n",
       "  padding-bottom: 6px;\n",
       "  margin-bottom: 4px;\n",
       "  border-bottom: solid 1px var(--xr-border-color);\n",
       "}\n",
       "\n",
       ".xr-header > div,\n",
       ".xr-header > ul {\n",
       "  display: inline;\n",
       "  margin-top: 0;\n",
       "  margin-bottom: 0;\n",
       "}\n",
       "\n",
       ".xr-obj-type,\n",
       ".xr-array-name {\n",
       "  margin-left: 2px;\n",
       "  margin-right: 10px;\n",
       "}\n",
       "\n",
       ".xr-obj-type {\n",
       "  color: var(--xr-font-color2);\n",
       "}\n",
       "\n",
       ".xr-sections {\n",
       "  padding-left: 0 !important;\n",
       "  display: grid;\n",
       "  grid-template-columns: 150px auto auto 1fr 20px 20px;\n",
       "}\n",
       "\n",
       ".xr-section-item {\n",
       "  display: contents;\n",
       "}\n",
       "\n",
       ".xr-section-item input {\n",
       "  display: none;\n",
       "}\n",
       "\n",
       ".xr-section-item input + label {\n",
       "  color: var(--xr-disabled-color);\n",
       "}\n",
       "\n",
       ".xr-section-item input:enabled + label {\n",
       "  cursor: pointer;\n",
       "  color: var(--xr-font-color2);\n",
       "}\n",
       "\n",
       ".xr-section-item input:enabled + label:hover {\n",
       "  color: var(--xr-font-color0);\n",
       "}\n",
       "\n",
       ".xr-section-summary {\n",
       "  grid-column: 1;\n",
       "  color: var(--xr-font-color2);\n",
       "  font-weight: 500;\n",
       "}\n",
       "\n",
       ".xr-section-summary > span {\n",
       "  display: inline-block;\n",
       "  padding-left: 0.5em;\n",
       "}\n",
       "\n",
       ".xr-section-summary-in:disabled + label {\n",
       "  color: var(--xr-font-color2);\n",
       "}\n",
       "\n",
       ".xr-section-summary-in + label:before {\n",
       "  display: inline-block;\n",
       "  content: '►';\n",
       "  font-size: 11px;\n",
       "  width: 15px;\n",
       "  text-align: center;\n",
       "}\n",
       "\n",
       ".xr-section-summary-in:disabled + label:before {\n",
       "  color: var(--xr-disabled-color);\n",
       "}\n",
       "\n",
       ".xr-section-summary-in:checked + label:before {\n",
       "  content: '▼';\n",
       "}\n",
       "\n",
       ".xr-section-summary-in:checked + label > span {\n",
       "  display: none;\n",
       "}\n",
       "\n",
       ".xr-section-summary,\n",
       ".xr-section-inline-details {\n",
       "  padding-top: 4px;\n",
       "  padding-bottom: 4px;\n",
       "}\n",
       "\n",
       ".xr-section-inline-details {\n",
       "  grid-column: 2 / -1;\n",
       "}\n",
       "\n",
       ".xr-section-details {\n",
       "  display: none;\n",
       "  grid-column: 1 / -1;\n",
       "  margin-bottom: 5px;\n",
       "}\n",
       "\n",
       ".xr-section-summary-in:checked ~ .xr-section-details {\n",
       "  display: contents;\n",
       "}\n",
       "\n",
       ".xr-array-wrap {\n",
       "  grid-column: 1 / -1;\n",
       "  display: grid;\n",
       "  grid-template-columns: 20px auto;\n",
       "}\n",
       "\n",
       ".xr-array-wrap > label {\n",
       "  grid-column: 1;\n",
       "  vertical-align: top;\n",
       "}\n",
       "\n",
       ".xr-preview {\n",
       "  color: var(--xr-font-color3);\n",
       "}\n",
       "\n",
       ".xr-array-preview,\n",
       ".xr-array-data {\n",
       "  padding: 0 5px !important;\n",
       "  grid-column: 2;\n",
       "}\n",
       "\n",
       ".xr-array-data,\n",
       ".xr-array-in:checked ~ .xr-array-preview {\n",
       "  display: none;\n",
       "}\n",
       "\n",
       ".xr-array-in:checked ~ .xr-array-data,\n",
       ".xr-array-preview {\n",
       "  display: inline-block;\n",
       "}\n",
       "\n",
       ".xr-dim-list {\n",
       "  display: inline-block !important;\n",
       "  list-style: none;\n",
       "  padding: 0 !important;\n",
       "  margin: 0;\n",
       "}\n",
       "\n",
       ".xr-dim-list li {\n",
       "  display: inline-block;\n",
       "  padding: 0;\n",
       "  margin: 0;\n",
       "}\n",
       "\n",
       ".xr-dim-list:before {\n",
       "  content: '(';\n",
       "}\n",
       "\n",
       ".xr-dim-list:after {\n",
       "  content: ')';\n",
       "}\n",
       "\n",
       ".xr-dim-list li:not(:last-child):after {\n",
       "  content: ',';\n",
       "  padding-right: 5px;\n",
       "}\n",
       "\n",
       ".xr-has-index {\n",
       "  font-weight: bold;\n",
       "}\n",
       "\n",
       ".xr-var-list,\n",
       ".xr-var-item {\n",
       "  display: contents;\n",
       "}\n",
       "\n",
       ".xr-var-item > div,\n",
       ".xr-var-item label,\n",
       ".xr-var-item > .xr-var-name span {\n",
       "  background-color: var(--xr-background-color-row-even);\n",
       "  margin-bottom: 0;\n",
       "}\n",
       "\n",
       ".xr-var-item > .xr-var-name:hover span {\n",
       "  padding-right: 5px;\n",
       "}\n",
       "\n",
       ".xr-var-list > li:nth-child(odd) > div,\n",
       ".xr-var-list > li:nth-child(odd) > label,\n",
       ".xr-var-list > li:nth-child(odd) > .xr-var-name span {\n",
       "  background-color: var(--xr-background-color-row-odd);\n",
       "}\n",
       "\n",
       ".xr-var-name {\n",
       "  grid-column: 1;\n",
       "}\n",
       "\n",
       ".xr-var-dims {\n",
       "  grid-column: 2;\n",
       "}\n",
       "\n",
       ".xr-var-dtype {\n",
       "  grid-column: 3;\n",
       "  text-align: right;\n",
       "  color: var(--xr-font-color2);\n",
       "}\n",
       "\n",
       ".xr-var-preview {\n",
       "  grid-column: 4;\n",
       "}\n",
       "\n",
       ".xr-index-preview {\n",
       "  grid-column: 2 / 5;\n",
       "  color: var(--xr-font-color2);\n",
       "}\n",
       "\n",
       ".xr-var-name,\n",
       ".xr-var-dims,\n",
       ".xr-var-dtype,\n",
       ".xr-preview,\n",
       ".xr-attrs dt {\n",
       "  white-space: nowrap;\n",
       "  overflow: hidden;\n",
       "  text-overflow: ellipsis;\n",
       "  padding-right: 10px;\n",
       "}\n",
       "\n",
       ".xr-var-name:hover,\n",
       ".xr-var-dims:hover,\n",
       ".xr-var-dtype:hover,\n",
       ".xr-attrs dt:hover {\n",
       "  overflow: visible;\n",
       "  width: auto;\n",
       "  z-index: 1;\n",
       "}\n",
       "\n",
       ".xr-var-attrs,\n",
       ".xr-var-data,\n",
       ".xr-index-data {\n",
       "  display: none;\n",
       "  background-color: var(--xr-background-color) !important;\n",
       "  padding-bottom: 5px !important;\n",
       "}\n",
       "\n",
       ".xr-var-attrs-in:checked ~ .xr-var-attrs,\n",
       ".xr-var-data-in:checked ~ .xr-var-data,\n",
       ".xr-index-data-in:checked ~ .xr-index-data {\n",
       "  display: block;\n",
       "}\n",
       "\n",
       ".xr-var-data > table {\n",
       "  float: right;\n",
       "}\n",
       "\n",
       ".xr-var-name span,\n",
       ".xr-var-data,\n",
       ".xr-index-name div,\n",
       ".xr-index-data,\n",
       ".xr-attrs {\n",
       "  padding-left: 25px !important;\n",
       "}\n",
       "\n",
       ".xr-attrs,\n",
       ".xr-var-attrs,\n",
       ".xr-var-data,\n",
       ".xr-index-data {\n",
       "  grid-column: 1 / -1;\n",
       "}\n",
       "\n",
       "dl.xr-attrs {\n",
       "  padding: 0;\n",
       "  margin: 0;\n",
       "  display: grid;\n",
       "  grid-template-columns: 125px auto;\n",
       "}\n",
       "\n",
       ".xr-attrs dt,\n",
       ".xr-attrs dd {\n",
       "  padding: 0;\n",
       "  margin: 0;\n",
       "  float: left;\n",
       "  padding-right: 10px;\n",
       "  width: auto;\n",
       "}\n",
       "\n",
       ".xr-attrs dt {\n",
       "  font-weight: normal;\n",
       "  grid-column: 1;\n",
       "}\n",
       "\n",
       ".xr-attrs dt:hover span {\n",
       "  display: inline-block;\n",
       "  background: var(--xr-background-color);\n",
       "  padding-right: 10px;\n",
       "}\n",
       "\n",
       ".xr-attrs dd {\n",
       "  grid-column: 2;\n",
       "  white-space: pre-wrap;\n",
       "  word-break: break-all;\n",
       "}\n",
       "\n",
       ".xr-icon-database,\n",
       ".xr-icon-file-text2,\n",
       ".xr-no-icon {\n",
       "  display: inline-block;\n",
       "  vertical-align: middle;\n",
       "  width: 1em;\n",
       "  height: 1.5em !important;\n",
       "  stroke-width: 0;\n",
       "  stroke: currentColor;\n",
       "  fill: currentColor;\n",
       "}\n",
       "</style><pre class='xr-text-repr-fallback'>&lt;xarray.Dataset&gt; Size: 473MB\n",
       "Dimensions:       (time: 7670, latitude: 70, longitude: 110)\n",
       "Coordinates:\n",
       "  * latitude      (latitude) float32 280B 41.03 41.08 41.12 ... 44.42 44.47\n",
       "  * longitude     (longitude) float32 440B 3.025 3.075 3.125 ... 8.425 8.475\n",
       "  * time          (time) datetime64[ns] 61kB 2001-01-01 ... 2021-12-31\n",
       "Data variables:\n",
       "    analysed_sst  (time, latitude, longitude) float64 472MB ...\n",
       "Attributes: (12/47)\n",
       "    Conventions:                CF-1.4, ACDD-1.3\n",
       "    Metadata_Conventions:       Unidata Observation Dataset v1.0\n",
       "    acknowledgment:             Please acknowledge the use of these data with...\n",
       "    cdm_data_type:              grid\n",
       "    comment:                    WARNING Some applications are unable to prope...\n",
       "    creator_email:              servicedesk.cmems@mercator-ocean.eu\n",
       "    ...                         ...\n",
       "    summary:                    A merged, multi-sensor L4 Foundation SST product\n",
       "    time_coverage_end:          19811002T000000Z\n",
       "    time_coverage_start:        19811001T000000Z\n",
       "    title:                      Global SST &amp; Sea Ice Analysis, L4 OSTIA, 0.05...\n",
       "    uuid:                       a2df4a18-6f19-4772-9532-39307a0e2794\n",
       "    westernmost_longitude:      -180.0</pre><div class='xr-wrap' style='display:none'><div class='xr-header'><div class='xr-obj-type'>xarray.Dataset</div></div><ul class='xr-sections'><li class='xr-section-item'><input id='section-daeb4eab-5b69-44a8-80ac-b7301beea67b' class='xr-section-summary-in' type='checkbox' disabled ><label for='section-daeb4eab-5b69-44a8-80ac-b7301beea67b' class='xr-section-summary'  title='Expand/collapse section'>Dimensions:</label><div class='xr-section-inline-details'><ul class='xr-dim-list'><li><span class='xr-has-index'>time</span>: 7670</li><li><span class='xr-has-index'>latitude</span>: 70</li><li><span class='xr-has-index'>longitude</span>: 110</li></ul></div><div class='xr-section-details'></div></li><li class='xr-section-item'><input id='section-5da6916e-8dd4-4481-b1cf-58909ee40e90' class='xr-section-summary-in' type='checkbox'  checked><label for='section-5da6916e-8dd4-4481-b1cf-58909ee40e90' class='xr-section-summary' >Coordinates: <span>(3)</span></label><div class='xr-section-inline-details'></div><div class='xr-section-details'><ul class='xr-var-list'><li class='xr-var-item'><div class='xr-var-name'><span class='xr-has-index'>latitude</span></div><div class='xr-var-dims'>(latitude)</div><div class='xr-var-dtype'>float32</div><div class='xr-var-preview xr-preview'>41.03 41.08 41.12 ... 44.42 44.47</div><input id='attrs-b7d30bfa-00fb-40c3-aeb8-d7a3f33453cc' class='xr-var-attrs-in' type='checkbox' ><label for='attrs-b7d30bfa-00fb-40c3-aeb8-d7a3f33453cc' title='Show/Hide attributes'><svg class='icon xr-icon-file-text2'><use xlink:href='#icon-file-text2'></use></svg></label><input id='data-df359c49-3bd4-4bce-ad9e-de656c2fbbc8' class='xr-var-data-in' type='checkbox'><label for='data-df359c49-3bd4-4bce-ad9e-de656c2fbbc8' title='Show/Hide data repr'><svg class='icon xr-icon-database'><use xlink:href='#icon-database'></use></svg></label><div class='xr-var-attrs'><dl class='xr-attrs'><dt><span>axis :</span></dt><dd>Y</dd><dt><span>comment :</span></dt><dd> Latitude geographical coordinates,WGS84 projection</dd><dt><span>long_name :</span></dt><dd>latitude</dd><dt><span>standard_name :</span></dt><dd>latitude</dd><dt><span>units :</span></dt><dd>degrees_north</dd><dt><span>valid_max :</span></dt><dd>44.475</dd><dt><span>valid_min :</span></dt><dd>41.025</dd></dl></div><div class='xr-var-data'><pre>array([41.025, 41.075, 41.125, 41.175, 41.225, 41.275, 41.325, 41.375, 41.425,\n",
       "       41.475, 41.525, 41.575, 41.625, 41.675, 41.725, 41.775, 41.825, 41.875,\n",
       "       41.925, 41.975, 42.025, 42.075, 42.125, 42.175, 42.225, 42.275, 42.325,\n",
       "       42.375, 42.425, 42.475, 42.525, 42.575, 42.625, 42.675, 42.725, 42.775,\n",
       "       42.825, 42.875, 42.925, 42.975, 43.025, 43.075, 43.125, 43.175, 43.225,\n",
       "       43.275, 43.325, 43.375, 43.425, 43.475, 43.525, 43.575, 43.625, 43.675,\n",
       "       43.725, 43.775, 43.825, 43.875, 43.925, 43.975, 44.025, 44.075, 44.125,\n",
       "       44.175, 44.225, 44.275, 44.325, 44.375, 44.425, 44.475], dtype=float32)</pre></div></li><li class='xr-var-item'><div class='xr-var-name'><span class='xr-has-index'>longitude</span></div><div class='xr-var-dims'>(longitude)</div><div class='xr-var-dtype'>float32</div><div class='xr-var-preview xr-preview'>3.025 3.075 3.125 ... 8.425 8.475</div><input id='attrs-877b9782-c53c-4687-8df5-cdc050ac1c06' class='xr-var-attrs-in' type='checkbox' ><label for='attrs-877b9782-c53c-4687-8df5-cdc050ac1c06' title='Show/Hide attributes'><svg class='icon xr-icon-file-text2'><use xlink:href='#icon-file-text2'></use></svg></label><input id='data-d0e1f98f-0ffb-4d7d-961c-51a93278ccfe' class='xr-var-data-in' type='checkbox'><label for='data-d0e1f98f-0ffb-4d7d-961c-51a93278ccfe' title='Show/Hide data repr'><svg class='icon xr-icon-database'><use xlink:href='#icon-database'></use></svg></label><div class='xr-var-attrs'><dl class='xr-attrs'><dt><span>axis :</span></dt><dd>X</dd><dt><span>comment :</span></dt><dd> Longitude geographical coordinates,WGS84 projection</dd><dt><span>long_name :</span></dt><dd>longitude</dd><dt><span>standard_name :</span></dt><dd>longitude</dd><dt><span>units :</span></dt><dd>degrees_east</dd><dt><span>valid_max :</span></dt><dd>8.475</dd><dt><span>valid_min :</span></dt><dd>3.025</dd></dl></div><div class='xr-var-data'><pre>array([3.025, 3.075, 3.125, 3.175, 3.225, 3.275, 3.325, 3.375, 3.425, 3.475,\n",
       "       3.525, 3.575, 3.625, 3.675, 3.725, 3.775, 3.825, 3.875, 3.925, 3.975,\n",
       "       4.025, 4.075, 4.125, 4.175, 4.225, 4.275, 4.325, 4.375, 4.425, 4.475,\n",
       "       4.525, 4.575, 4.625, 4.675, 4.725, 4.775, 4.825, 4.875, 4.925, 4.975,\n",
       "       5.025, 5.075, 5.125, 5.175, 5.225, 5.275, 5.325, 5.375, 5.425, 5.475,\n",
       "       5.525, 5.575, 5.625, 5.675, 5.725, 5.775, 5.825, 5.875, 5.925, 5.975,\n",
       "       6.025, 6.075, 6.125, 6.175, 6.225, 6.275, 6.325, 6.375, 6.425, 6.475,\n",
       "       6.525, 6.575, 6.625, 6.675, 6.725, 6.775, 6.825, 6.875, 6.925, 6.975,\n",
       "       7.025, 7.075, 7.125, 7.175, 7.225, 7.275, 7.325, 7.375, 7.425, 7.475,\n",
       "       7.525, 7.575, 7.625, 7.675, 7.725, 7.775, 7.825, 7.875, 7.925, 7.975,\n",
       "       8.025, 8.075, 8.125, 8.175, 8.225, 8.275, 8.325, 8.375, 8.425, 8.475],\n",
       "      dtype=float32)</pre></div></li><li class='xr-var-item'><div class='xr-var-name'><span class='xr-has-index'>time</span></div><div class='xr-var-dims'>(time)</div><div class='xr-var-dtype'>datetime64[ns]</div><div class='xr-var-preview xr-preview'>2001-01-01 ... 2021-12-31</div><input id='attrs-dd819bc1-49fd-4a29-a0ba-7903eecc67ac' class='xr-var-attrs-in' type='checkbox' ><label for='attrs-dd819bc1-49fd-4a29-a0ba-7903eecc67ac' title='Show/Hide attributes'><svg class='icon xr-icon-file-text2'><use xlink:href='#icon-file-text2'></use></svg></label><input id='data-ac5cd21f-d1cc-4a14-b8ac-21a022d2cb4f' class='xr-var-data-in' type='checkbox'><label for='data-ac5cd21f-d1cc-4a14-b8ac-21a022d2cb4f' title='Show/Hide data repr'><svg class='icon xr-icon-database'><use xlink:href='#icon-database'></use></svg></label><div class='xr-var-attrs'><dl class='xr-attrs'><dt><span>valid_min :</span></dt><dd>631152000</dd><dt><span>valid_max :</span></dt><dd>1293753600</dd></dl></div><div class='xr-var-data'><pre>array([&#x27;2001-01-01T00:00:00.000000000&#x27;, &#x27;2001-01-02T00:00:00.000000000&#x27;,\n",
       "       &#x27;2001-01-03T00:00:00.000000000&#x27;, ..., &#x27;2021-12-29T00:00:00.000000000&#x27;,\n",
       "       &#x27;2021-12-30T00:00:00.000000000&#x27;, &#x27;2021-12-31T00:00:00.000000000&#x27;],\n",
       "      dtype=&#x27;datetime64[ns]&#x27;)</pre></div></li></ul></div></li><li class='xr-section-item'><input id='section-33683011-d944-4d46-9fb7-89c64a3b4194' class='xr-section-summary-in' type='checkbox'  checked><label for='section-33683011-d944-4d46-9fb7-89c64a3b4194' class='xr-section-summary' >Data variables: <span>(1)</span></label><div class='xr-section-inline-details'></div><div class='xr-section-details'><ul class='xr-var-list'><li class='xr-var-item'><div class='xr-var-name'><span>analysed_sst</span></div><div class='xr-var-dims'>(time, latitude, longitude)</div><div class='xr-var-dtype'>float64</div><div class='xr-var-preview xr-preview'>...</div><input id='attrs-b010a53f-3718-4c30-9cbd-5ed477476923' class='xr-var-attrs-in' type='checkbox' ><label for='attrs-b010a53f-3718-4c30-9cbd-5ed477476923' title='Show/Hide attributes'><svg class='icon xr-icon-file-text2'><use xlink:href='#icon-file-text2'></use></svg></label><input id='data-cdd484e0-194a-4f84-aafb-f73bc33a3671' class='xr-var-data-in' type='checkbox'><label for='data-cdd484e0-194a-4f84-aafb-f73bc33a3671' title='Show/Hide data repr'><svg class='icon xr-icon-database'><use xlink:href='#icon-database'></use></svg></label><div class='xr-var-attrs'><dl class='xr-attrs'><dt><span>comment :</span></dt><dd> OSTIA foundation SST</dd><dt><span>long_name :</span></dt><dd>analysed sea surface temperature</dd><dt><span>reference :</span></dt><dd>C.J. Donlon, M. Martin,J.D. Stark, J. Roberts-Jones, E. Fiedler, W. Wimmer. The operational sea surface temperature and sea ice analysis (OSTIA) system. Remote Sensing Environ., 116 (2012), pp. 140-158 http://dx.doi.org/10.1016/j.rse.2010.10.017</dd><dt><span>source :</span></dt><dd>AMSR2-REMSS-L2P-v2.0, AMSRE-REMSS-L2P-v2.0, TMI-REMSS-L2P-v04, GOES13-OSISAF-L3C-v2.0, SEVIRI-OSISAF-L3C-v2.0, SLSTRA-C3S-L3C-v2.0, ATSR&lt;1,2&gt;-ESACCI-L3U-v2.0, AATSR-ESACCI-L3U-v2.0, AVHRR&lt;06,07,08,09,10,11,12,14,15,16,17,18,19&gt;-ESACCI-L3U-v2.0, AVHRRMTA-ESACCI-L3U-v2.0, GMI-REMSS-L3U-v2.0, VIIRS-OSPO-L3U-v2.0</dd><dt><span>standard_name :</span></dt><dd>sea_surface_foundation_temperature</dd><dt><span>units :</span></dt><dd>kelvin</dd><dt><span>valid_max :</span></dt><dd>4500</dd><dt><span>valid_min :</span></dt><dd>-300</dd></dl></div><div class='xr-var-data'><pre>[59059000 values with dtype=float64]</pre></div></li></ul></div></li><li class='xr-section-item'><input id='section-7864489c-1eb9-479a-840c-3919016c3c5e' class='xr-section-summary-in' type='checkbox'  ><label for='section-7864489c-1eb9-479a-840c-3919016c3c5e' class='xr-section-summary' >Indexes: <span>(3)</span></label><div class='xr-section-inline-details'></div><div class='xr-section-details'><ul class='xr-var-list'><li class='xr-var-item'><div class='xr-index-name'><div>latitude</div></div><div class='xr-index-preview'>PandasIndex</div><div></div><input id='index-d5077fb6-6a77-45bd-9617-1aaad315a7bb' class='xr-index-data-in' type='checkbox'/><label for='index-d5077fb6-6a77-45bd-9617-1aaad315a7bb' title='Show/Hide index repr'><svg class='icon xr-icon-database'><use xlink:href='#icon-database'></use></svg></label><div class='xr-index-data'><pre>PandasIndex(Index([41.025001525878906,  41.07500076293945,             41.125,\n",
       "        41.17499923706055, 41.224998474121094, 41.275001525878906,\n",
       "        41.32500076293945,             41.375,  41.42499923706055,\n",
       "       41.474998474121094, 41.525001525878906,  41.57500076293945,\n",
       "                   41.625,  41.67499923706055, 41.724998474121094,\n",
       "       41.775001525878906,  41.82500076293945,             41.875,\n",
       "        41.92499923706055, 41.974998474121094, 42.025001525878906,\n",
       "        42.07500076293945,             42.125,  42.17499923706055,\n",
       "       42.224998474121094, 42.275001525878906,  42.32500076293945,\n",
       "                   42.375,  42.42499923706055, 42.474998474121094,\n",
       "       42.525001525878906,  42.57500076293945,             42.625,\n",
       "        42.67499923706055, 42.724998474121094, 42.775001525878906,\n",
       "        42.82500076293945,             42.875,  42.92499923706055,\n",
       "       42.974998474121094, 43.025001525878906,  43.07500076293945,\n",
       "                   43.125,  43.17499923706055, 43.224998474121094,\n",
       "       43.275001525878906,  43.32500076293945,             43.375,\n",
       "        43.42499923706055, 43.474998474121094, 43.525001525878906,\n",
       "        43.57500076293945,             43.625,  43.67499923706055,\n",
       "       43.724998474121094, 43.775001525878906,  43.82500076293945,\n",
       "                   43.875,  43.92499923706055, 43.974998474121094,\n",
       "       44.025001525878906,  44.07500076293945,             44.125,\n",
       "        44.17499923706055, 44.224998474121094, 44.275001525878906,\n",
       "        44.32500076293945,             44.375,  44.42499923706055,\n",
       "       44.474998474121094],\n",
       "      dtype=&#x27;float32&#x27;, name=&#x27;latitude&#x27;))</pre></div></li><li class='xr-var-item'><div class='xr-index-name'><div>longitude</div></div><div class='xr-index-preview'>PandasIndex</div><div></div><input id='index-7e711d8f-c341-41a1-ad43-12dafa216d31' class='xr-index-data-in' type='checkbox'/><label for='index-7e711d8f-c341-41a1-ad43-12dafa216d31' title='Show/Hide index repr'><svg class='icon xr-icon-database'><use xlink:href='#icon-database'></use></svg></label><div class='xr-index-data'><pre>PandasIndex(Index([3.0250000953674316,  3.075000047683716,              3.125,\n",
       "        3.174999952316284, 3.2249999046325684, 3.2750000953674316,\n",
       "        3.325000047683716,              3.375,  3.424999952316284,\n",
       "       3.4749999046325684,\n",
       "       ...\n",
       "        8.024999618530273,  8.074999809265137,              8.125,\n",
       "        8.175000190734863,  8.225000381469727,  8.274999618530273,\n",
       "        8.324999809265137,              8.375,  8.425000190734863,\n",
       "        8.475000381469727],\n",
       "      dtype=&#x27;float32&#x27;, name=&#x27;longitude&#x27;, length=110))</pre></div></li><li class='xr-var-item'><div class='xr-index-name'><div>time</div></div><div class='xr-index-preview'>PandasIndex</div><div></div><input id='index-2c5fabf9-8962-4578-8943-8c8326370665' class='xr-index-data-in' type='checkbox'/><label for='index-2c5fabf9-8962-4578-8943-8c8326370665' title='Show/Hide index repr'><svg class='icon xr-icon-database'><use xlink:href='#icon-database'></use></svg></label><div class='xr-index-data'><pre>PandasIndex(DatetimeIndex([&#x27;2001-01-01&#x27;, &#x27;2001-01-02&#x27;, &#x27;2001-01-03&#x27;, &#x27;2001-01-04&#x27;,\n",
       "               &#x27;2001-01-05&#x27;, &#x27;2001-01-06&#x27;, &#x27;2001-01-07&#x27;, &#x27;2001-01-08&#x27;,\n",
       "               &#x27;2001-01-09&#x27;, &#x27;2001-01-10&#x27;,\n",
       "               ...\n",
       "               &#x27;2021-12-22&#x27;, &#x27;2021-12-23&#x27;, &#x27;2021-12-24&#x27;, &#x27;2021-12-25&#x27;,\n",
       "               &#x27;2021-12-26&#x27;, &#x27;2021-12-27&#x27;, &#x27;2021-12-28&#x27;, &#x27;2021-12-29&#x27;,\n",
       "               &#x27;2021-12-30&#x27;, &#x27;2021-12-31&#x27;],\n",
       "              dtype=&#x27;datetime64[ns]&#x27;, name=&#x27;time&#x27;, length=7670, freq=None))</pre></div></li></ul></div></li><li class='xr-section-item'><input id='section-14517c84-0747-4e4a-98d4-3c8ca356561a' class='xr-section-summary-in' type='checkbox'  ><label for='section-14517c84-0747-4e4a-98d4-3c8ca356561a' class='xr-section-summary' >Attributes: <span>(47)</span></label><div class='xr-section-inline-details'></div><div class='xr-section-details'><dl class='xr-attrs'><dt><span>Conventions :</span></dt><dd>CF-1.4, ACDD-1.3</dd><dt><span>Metadata_Conventions :</span></dt><dd>Unidata Observation Dataset v1.0</dd><dt><span>acknowledgment :</span></dt><dd>Please acknowledge the use of these data with the following statement: These data were provided by GHRSST, Met Office and CMEMS</dd><dt><span>cdm_data_type :</span></dt><dd>grid</dd><dt><span>comment :</span></dt><dd>WARNING Some applications are unable to properly handle signed byte values. If values are encountered &gt; 127, please subtract 256 from this reported value</dd><dt><span>creator_email :</span></dt><dd>servicedesk.cmems@mercator-ocean.eu</dd><dt><span>creator_name :</span></dt><dd>Met Office as part of CMEMS</dd><dt><span>creator_url :</span></dt><dd>http://marine.copernicus.eu</dd><dt><span>date_created :</span></dt><dd>20190903T085758Z</dd><dt><span>easternmost_longitude :</span></dt><dd>180.00001525878906</dd><dt><span>file_quality_level :</span></dt><dd>3</dd><dt><span>gds_version_id :</span></dt><dd>2.4</dd><dt><span>geospatial_lat_resolution :</span></dt><dd>0.05000000074505806</dd><dt><span>geospatial_lat_units :</span></dt><dd>degrees_north</dd><dt><span>geospatial_lon_resolution :</span></dt><dd>0.05000000074505806</dd><dt><span>geospatial_lon_units :</span></dt><dd>degrees_east</dd><dt><span>history :</span></dt><dd>Created from sst.nc; obs_anal.nc; seaice.nc</dd><dt><span>id :</span></dt><dd>OSTIA-UKMO-L4-GLOB-v2.0</dd><dt><span>institution :</span></dt><dd>UKMO</dd><dt><span>keywords :</span></dt><dd>Oceans &gt; Ocean Temperature &gt; Sea Surface Temperature</dd><dt><span>keywords_vocabulary :</span></dt><dd>NASA Global Change Master Directory (GCMD) Science Keywords</dd><dt><span>license :</span></dt><dd>These data are available free of charge under the CMEMS data policy</dd><dt><span>metadata_link :</span></dt><dd>http://podaac.jpl.nasa.gov/ws/metadata/dataset?format=gcmd&amp;shortName=UKMO-L4HRfnd-GLOB-OSTIA</dd><dt><span>naming_authority :</span></dt><dd>org.ghrsst</dd><dt><span>netcdf_version_id :</span></dt><dd>4.1</dd><dt><span>northernmost_latitude :</span></dt><dd>90.0</dd><dt><span>platform :</span></dt><dd>GCOM-W, AQUA, GOES&lt;13,16&gt;, MetoSat&lt;08,09,10,11&gt;, Sentinel-&lt;3a,3b&gt;, ERS&lt;1,2&gt;, Envisat, NOAA-&lt;07,08,09,11,12,14,15,16,17,18,19,MTA&gt;, GPM-Core, Suomi-NPP, NOAA-20</dd><dt><span>processing_level :</span></dt><dd>L4</dd><dt><span>product_version :</span></dt><dd>3.2</dd><dt><span>project :</span></dt><dd>Group for High Resolution Sea Surface Temperature</dd><dt><span>publisher_email :</span></dt><dd>ghrsst-po@nceo.ac.uk</dd><dt><span>publisher_name :</span></dt><dd>GHRSST Project Office</dd><dt><span>publisher_url :</span></dt><dd>http://www.ghrsst.org</dd><dt><span>references :</span></dt><dd>Donlon, C.J., Martin, M., Stark, J.D., Roberts-Jones, J., Fiedler, E., Wimmer, W., 2011. The Operational Sea Surface Temperature and Sea Ice Analysis (OSTIA). Remote Sensing of the Environment</dd><dt><span>sensor :</span></dt><dd>AMSR2, AMSRE, GOES&lt;13,16&gt;, SEVIRI, SLSTRA, ATSR&lt;1,2&gt;, AATSR, AVHRR&lt;07,09,11,12,14,15,16,17,18,19,MTA&gt;, GMI, VIIRS&lt;NPP,N20&gt;</dd><dt><span>source :</span></dt><dd>AMSR2-REMSS-L2P-v2.0, AMSRE-REMSS-L2P-v2.0, GOES&lt;13,16&gt;-OSISAF-L3C-v2.0, SEVIRI-OSISAF-L3C-v2.0, SLSTRA-C3S-L3C-v2.0, ATSR&lt;1,2&gt;-ESACCI-L3U-v2.0, AATSR-ESACCI-L3U-v2.0, AVHRR&lt;07,09,11,12,14,15,16,17,18,19,MTA&gt;-ESACCI-L3U-v2.0, GMI-REMSS-L3U-v2.0, VIIRS&lt;NPP,N20&gt;-OSPO-L3U-v2.0, OSISAF_ICE</dd><dt><span>southernmost_latitude :</span></dt><dd>-90.0</dd><dt><span>spatial_resolution :</span></dt><dd>0.05 degree</dd><dt><span>standard_name_vocabulary :</span></dt><dd>NetCDF Climate and Forecast (CF) Metadata Convention</dd><dt><span>start_time :</span></dt><dd>19811001T000000Z</dd><dt><span>stop_time :</span></dt><dd>19811002T000000Z</dd><dt><span>summary :</span></dt><dd>A merged, multi-sensor L4 Foundation SST product</dd><dt><span>time_coverage_end :</span></dt><dd>19811002T000000Z</dd><dt><span>time_coverage_start :</span></dt><dd>19811001T000000Z</dd><dt><span>title :</span></dt><dd>Global SST &amp; Sea Ice Analysis, L4 OSTIA, 0.05 deg daily (METOFFICE-GLO-SST-L4-REP-OBS-SST-V2)</dd><dt><span>uuid :</span></dt><dd>a2df4a18-6f19-4772-9532-39307a0e2794</dd><dt><span>westernmost_longitude :</span></dt><dd>-180.0</dd></dl></div></li></ul></div></div>"
      ],
      "text/plain": [
       "<xarray.Dataset> Size: 473MB\n",
       "Dimensions:       (time: 7670, latitude: 70, longitude: 110)\n",
       "Coordinates:\n",
       "  * latitude      (latitude) float32 280B 41.03 41.08 41.12 ... 44.42 44.47\n",
       "  * longitude     (longitude) float32 440B 3.025 3.075 3.125 ... 8.425 8.475\n",
       "  * time          (time) datetime64[ns] 61kB 2001-01-01 ... 2021-12-31\n",
       "Data variables:\n",
       "    analysed_sst  (time, latitude, longitude) float64 472MB ...\n",
       "Attributes: (12/47)\n",
       "    Conventions:                CF-1.4, ACDD-1.3\n",
       "    Metadata_Conventions:       Unidata Observation Dataset v1.0\n",
       "    acknowledgment:             Please acknowledge the use of these data with...\n",
       "    cdm_data_type:              grid\n",
       "    comment:                    WARNING Some applications are unable to prope...\n",
       "    creator_email:              servicedesk.cmems@mercator-ocean.eu\n",
       "    ...                         ...\n",
       "    summary:                    A merged, multi-sensor L4 Foundation SST product\n",
       "    time_coverage_end:          19811002T000000Z\n",
       "    time_coverage_start:        19811001T000000Z\n",
       "    title:                      Global SST & Sea Ice Analysis, L4 OSTIA, 0.05...\n",
       "    uuid:                       a2df4a18-6f19-4772-9532-39307a0e2794\n",
       "    westernmost_longitude:      -180.0"
      ]
     },
     "execution_count": 8,
     "metadata": {},
     "output_type": "execute_result"
    }
   ],
   "source": [
    "ds"
   ]
  },
  {
   "cell_type": "markdown",
   "metadata": {},
   "source": [
    "You can see from the above that we have downloaded a \"cube\" of data. You can see this in the `analysed_sst` variable, which has dimensions of time, latitude, longitude. There are a variety of nice plotting tools to view gridded data, and we are going to use one called `xcube` that allows us to explore temporally and spatially. \n",
    "\n",
    "Below, we will set up our \"viewer\", configuring a *style* that will determine how we see the data in the viewer."
   ]
  },
  {
   "cell_type": "code",
   "execution_count": 9,
   "metadata": {},
   "outputs": [],
   "source": [
    "viewer = Viewer(\n",
    "    server_config={\n",
    "        \"Styles\": [\n",
    "            {\n",
    "                \"Identifier\": \"SST\",\n",
    "                \"ColorMappings\": {\n",
    "                    \"analysed_sst\": {\"ValueRange\": [285, 290], \"ColorBar\": \"Spectral_r\"}\n",
    "                },\n",
    "            }        \n",
    "        ]\n",
    "    }\n",
    ")"
   ]
  },
  {
   "cell_type": "markdown",
   "metadata": {},
   "source": [
    "Lets now add our Dataset to the viewer, associating it with our defined *style*, and show the viewer. The viewer will open the latest \"time slice\" of the data set, but you can iterate it in time using the arrow buttons and click on any \"populated\" pixel to see a time series.\n",
    "\n",
    "Explore the tool to see how the SST field changes in time.\n",
    "\n",
    "*Hint: you may need to rerun the cell above with different temperature bounds when you reach summer! The current ones are chosen for winter, and are in degrees Kelvin*"
   ]
  },
  {
   "cell_type": "code",
   "execution_count": 10,
   "metadata": {},
   "outputs": [
    {
     "data": {
      "text/html": [
       "<iframe src=\"http://localhost:8000/viewer/?serverUrl=http://localhost:8000&compact=1\" width=\"100%\" height=\"800\"/>"
      ],
      "text/plain": [
       "<IPython.core.display.HTML object>"
      ]
     },
     "execution_count": 10,
     "metadata": {},
     "output_type": "execute_result"
    },
    {
     "name": "stderr",
     "output_type": "stream",
     "text": [
      "404 GET /viewer/config/config.json (127.0.0.1): xcube viewer has not been been configured\n",
      "404 GET /viewer/config/config.json (127.0.0.1) 6.82ms\n",
      "404 GET /viewer/config/config.json (127.0.0.1): xcube viewer has not been been configured\n",
      "404 GET /viewer/config/config.json (127.0.0.1) 1.68ms\n"
     ]
    }
   ],
   "source": [
    "viewer.add_dataset(ds, title=\"OSTIA\", style=\"SST\");\n",
    "viewer.show()"
   ]
  },
  {
   "cell_type": "markdown",
   "metadata": {},
   "source": [
    "The OSTIA data sets we are working with is 0.05$^{o}$ (~5 km at this latitude), so we can see some detail on the mesoscale variability in the region - though in practice the effects of the interpolation scheme reduce the effective resolution. If you have clicked on the SST field to create a time series, you will also most likely see a strong seasonal cycle and possibly some hints of a warming trend, which very much matches the temperature anomalies across the region in the last few years! If you are interested, here is another notebook (<a href=\"../Atl_Med_anomalies/Atlantic_Med_SST_anomalies.ipynb\" target=\"_blank\">Sea surface temperature anomalies in the Northern Atlantic and Mediterranean Sea</a>) that explores this in more detail.\n",
    "\n",
    "Lets now move on to some times series analysis with a view to identifying marine heat waves in this region."
   ]
  },
  {
   "cell_type": "markdown",
   "metadata": {},
   "source": [
    "<div class=\"alert alert-info\" role=\"alert\">\n",
    "\n",
    "## <a id='section3'></a>3. Downloading level-4 SST data from the Copernicus Marine Service\n",
    "[Back to top](#TOCTOP)\n",
    "\n",
    "</div>"
   ]
  },
  {
   "cell_type": "markdown",
   "metadata": {},
   "source": [
    "Above, we connected the the Copernicus Marine Service Data Store in a way that allowed us to work directly with the data. However, as we want to perform some more in depth analysis we are now going to download the data and write it to a file. We can do this using the `open_dataset` method to connect to the data, then take the mean of the resulting array in both spatial dimensions to create a time series, thatt we will then write it to our pre-specified file name.\n",
    "\n",
    "Lets do this for OSTIA...."
   ]
  },
  {
   "cell_type": "code",
   "execution_count": null,
   "metadata": {},
   "outputs": [],
   "source": [
    "if download_data:\n",
    "    ds = copernicusmarine.open_dataset(\n",
    "        dataset_id=datasets[\"OSTIA\"][\"sources\"],\n",
    "        variables=variables,\n",
    "        minimum_longitude=ROI[0],\n",
    "        maximum_longitude=ROI[1],\n",
    "        minimum_latitude=ROI[2],\n",
    "        maximum_latitude=ROI[3],\n",
    "        start_datetime= f\"{final_year - n_years}-01-01\",\n",
    "        end_datetime= f\"{final_year}-12-31\")\n",
    "\n",
    "    # create times series\n",
    "    ts = ds.analysed_sst.mean(dim=[\"latitude\", \"longitude\"])\n",
    "    \n",
    "    # Store the time series ts locally.\n",
    "    ts.to_netcdf(datasets[\"OSTIA\"][\"savefile\"])"
   ]
  },
  {
   "cell_type": "markdown",
   "metadata": {},
   "source": [
    "And now lets do this for the CCI and C3S data sets, this time concatenating them into one times series. We can ONLY do this as the data sets are compatible and exactly follow on from each other with no temporal overlap or gap."
   ]
  },
  {
   "cell_type": "code",
   "execution_count": null,
   "metadata": {},
   "outputs": [],
   "source": [
    "if download_data:\n",
    "\n",
    "    sources = []\n",
    "    for source in datasets[\"CCI_C3S\"][\"sources\"]:\n",
    "        sources.append(copernicusmarine.open_dataset(\n",
    "            dataset_id=source,\n",
    "            variables=variables,\n",
    "            minimum_longitude=ROI[0],\n",
    "            maximum_longitude=ROI[1],\n",
    "            minimum_latitude=ROI[2],\n",
    "            maximum_latitude=ROI[3],\n",
    "            start_datetime= f\"{final_year - n_years}-01-01\",\n",
    "            end_datetime= f\"{final_year}-12-31\").analysed_sst.mean(dim=[\"latitude\", \"longitude\"]))\n",
    "\n",
    "    # create times series\n",
    "    ts = xr.concat(sources, dim=\"time\")\n",
    "\n",
    "    # Store the time series ts locally.\n",
    "    ts.to_netcdf(datasets[\"CCI_C3S\"][\"savefile\"])"
   ]
  },
  {
   "cell_type": "markdown",
   "metadata": {},
   "source": [
    "You should now notice that, in the sidebar on the left, you have two netCDF files ready for analysis; SST_OSTIA.nc and SST_CCI_C3S.nc."
   ]
  },
  {
   "cell_type": "markdown",
   "metadata": {},
   "source": [
    "<div class=\"alert alert-info\" role=\"alert\">\n",
    "\n",
    "## <a id='section4'></a>4. Loading and preparing the SST data sets\n",
    "[Back to top](#TOCTOP)\n",
    "\n",
    "</div>"
   ]
  },
  {
   "cell_type": "markdown",
   "metadata": {},
   "source": [
    "We have downloaded and created our time series, but we need to read it in to work with the data. The cell below will load our time-series in and store it in a dictionary called `heatwaves`. It will also change the SST from degrees K to degrees C."
   ]
  },
  {
   "cell_type": "code",
   "execution_count": null,
   "metadata": {},
   "outputs": [],
   "source": [
    "heatwaves = {}\n",
    "\n",
    "K_to_C = - 273.15\n",
    "for tag in tags:\n",
    "    heatwaves[tag] = {}\n",
    "    ts = xr.open_dataarray(f\"SST_{tag}.nc\")\n",
    "    ts = ts + K_to_C\n",
    "    heatwaves[tag][\"time_series\"] = ts\n",
    "    ts.close()"
   ]
  },
  {
   "cell_type": "markdown",
   "metadata": {},
   "source": [
    "Now we have the data ready to use, its time to analyse it for the presence of heatwaves. This is where we apply the `xmhw` tool. We are going to iterate through our two data sets (OSITA and CCI_C3S) and calculate the following quantities:\n",
    "\n",
    "The following help us with plotting:\n",
    "\n",
    "* **max_year**: the final year of the time series as a numpy array\n",
    "* **min_year**: the first year of the time series as a numpy array\n",
    "* **time**: the time variable stored in our dictionary as a numpy array\n",
    "* **SST**: the SST signal in our dictionary as a numpy array\n",
    "\n",
    "The following help us determine climate thresholds:\n",
    "\n",
    "*  **xmhw**_thresholds: the results of the xmhw <a href=\"https://xmhw.readthedocs.io/en/latest/threshold.html\" target=\"_blank\">`thresholds` method</a>, which gives us both the mean climatology (*seas*) and 90% threshold values (*thresh*)\n",
    "*  **doy**: the day of year as a numpy array\n",
    "*  **xmhw_seas_clim**: the annual climatology (*seas*) as a numpy array\n",
    "*  **xmhw_thresh_clim**: the annual 90% threshold (*thresh*) as a numpy array\n",
    "*  **xmhw_seas**: the climatology copied across the whole time series as a numpy array\n",
    "*  **xmhw_thresh**: the 90% threshold copied across the whole time series as a numpy array\n",
    "\n",
    "The following calculates the presence of heatwaves:\n",
    "\n",
    "*  **mhws**: the results of the xmhw <a href=\"https://xmhw.readthedocs.io/en/latest/detect.html\" target=\"_blank\">`detect` method</a>, which determines the presence of our heatwaves."
   ]
  },
  {
   "cell_type": "code",
   "execution_count": null,
   "metadata": {},
   "outputs": [],
   "source": [
    "for tag in tags:\n",
    "    heatwaves[tag][\"max_year\"] = np.array(heatwaves[tag][\"time_series\"][-1].time.dt.year)\n",
    "    heatwaves[tag][\"min_year\"] = np.array(heatwaves[tag][\"time_series\"][0].time.dt.year)\n",
    "    heatwaves[tag][\"time\"] = np.array(heatwaves[tag][\"time_series\"].time) \n",
    "    heatwaves[tag][\"SST\"] = np.array(heatwaves[tag][\"time_series\"]) \n",
    "\n",
    "    # heatwave threshold calculations\n",
    "    heatwaves[tag][\"xmhw_thresholds\"] = threshold(heatwaves[tag][\"time_series\"])\n",
    "    heatwaves[tag][\"doy\"] = np.array(heatwaves[tag][\"xmhw_thresholds\"].doy)\n",
    "    heatwaves[tag][\"xmhw_seas_clim\"] = np.array(heatwaves[tag][\"xmhw_thresholds\"].seas)\n",
    "    heatwaves[tag][\"xmhw_thresh_clim\"] = np.array(heatwaves[tag][\"xmhw_thresholds\"].thresh)\n",
    "    heatwaves[tag][\"xmhw_seas\"] = heatwaves[tag][\"xmhw_seas_clim\"][heatwaves[tag][\"time_series\"].time.dt.dayofyear - 1]\n",
    "    heatwaves[tag][\"xmhw_thresh\"] = heatwaves[tag][\"xmhw_thresh_clim\"][heatwaves[tag][\"time_series\"].time.dt.dayofyear - 1]\n",
    "\n",
    "    # heatwave detection calculations\n",
    "    heatwaves[tag][\"mhws\"] = detect(heatwaves[tag][\"time_series\"], heatwaves[tag][\"xmhw_thresholds\"].thresh, heatwaves[tag][\"xmhw_thresholds\"].seas)"
   ]
  },
  {
   "cell_type": "markdown",
   "metadata": {},
   "source": [
    "Our analysis is now complete and we are ready to explore the results, which we will do interactively using a plotting packages called `bokeh`. The cell below takes the **climatology** variables from our dictionary and gets them ready for plotting."
   ]
  },
  {
   "cell_type": "code",
   "execution_count": null,
   "metadata": {},
   "outputs": [],
   "source": [
    "data_clim = bm.ColumnDataSource(\n",
    "    data=dict(\n",
    "        doy_OSTIA=heatwaves[tags[0]][\"doy\"],\n",
    "        seas_clim_OSTIA=heatwaves[tags[0]][\"xmhw_seas_clim\"],\n",
    "        thresh_clim_OSTIA=heatwaves[tags[0]][\"xmhw_thresh_clim\"],\n",
    "        doy_CCI_C3S=heatwaves[tags[1]][\"doy\"],\n",
    "        seas_clim_CCI_C3S=heatwaves[tags[1]][\"xmhw_seas_clim\"],\n",
    "        thresh_clim_CCI_C3S=heatwaves[tags[1]][\"xmhw_thresh_clim\"]))"
   ]
  },
  {
   "cell_type": "markdown",
   "metadata": {},
   "source": [
    "...and this cell gets the **full times series** variables from our dictionary and gets them ready for plotting... "
   ]
  },
  {
   "cell_type": "code",
   "execution_count": null,
   "metadata": {},
   "outputs": [],
   "source": [
    "data = bm.ColumnDataSource(\n",
    "    data=dict(\n",
    "        t_OSTIA=heatwaves[tags[0]][\"time\"],\n",
    "        sst_OSTIA=heatwaves[tags[0]][\"SST\"],\n",
    "        seas_OSTIA=heatwaves[tags[0]][\"xmhw_seas\"],\n",
    "        thresh_OSTIA=heatwaves[tags[0]][\"xmhw_thresh\"],\n",
    "        t_CCI_C3S=heatwaves[tags[1]][\"time\"],\n",
    "        sst_CCI_C3S=heatwaves[tags[1]][\"SST\"],\n",
    "        seas_CCI_C3S=heatwaves[tags[1]][\"xmhw_seas\"],\n",
    "        thresh_CCI_C3S=heatwaves[tags[1]][\"xmhw_thresh\"]))"
   ]
  },
  {
   "cell_type": "markdown",
   "metadata": {},
   "source": [
    "Right, everything is ready, lets start exploring!"
   ]
  },
  {
   "cell_type": "markdown",
   "metadata": {},
   "source": [
    "<div class=\"alert alert-info\" role=\"alert\">\n",
    "\n",
    "## <a id='section5'></a>5. Comparing climatologies\n",
    "[Back to top](#TOCTOP)\n",
    "\n",
    "</div>"
   ]
  },
  {
   "cell_type": "markdown",
   "metadata": {},
   "source": [
    "Our ability to determine the presence of a heatwaves depends intimately on the climatology we use as a baseline. Here, we are working with two contemporaneous data sets, allowing us to compare their mean seasonal climatologies. The cell below will plot both climatologies.\n",
    "\n",
    "The plot will be interactive, allowing you to explore the data more fully. We will also set up some tools to help with this exploration; you are free to use the widgets on the right hand side of the plot to zoom, pan, reset and export the plot, and you should also see the time series values highlighted as you run your mouse over the plot."
   ]
  },
  {
   "cell_type": "code",
   "execution_count": null,
   "metadata": {},
   "outputs": [],
   "source": [
    "# set up our figure\n",
    "p = bk.figure(height=600, width=1000,\n",
    "    title=f\"SST Climatology [climatology: {tag}, {heatwaves[tags[0]]['min_year']} - {heatwaves[tags[0]]['max_year']}]\",\n",
    "    x_axis_label=\"Day of year\", y_axis_label=r\"\\[ SST \\, [^\\circ C] \\]\")\n",
    "\n",
    "# Plot the climatology and collect the plot, hover and legend entries\n",
    "plots = [] ; hovers = [] ; entries = []\n",
    "count = -1\n",
    "for tag, cols, loc in zip(tags, [\"blue\", \"black\"], [\"left\", \"right\"]):\n",
    "    count = count + 1\n",
    "    plots.append(p.line(x=f\"doy_{tag}\", y=f\"seas_clim_{tag}\", source=data_clim, line_width=1.5, color=cols))\n",
    "    hovers.append(bm.HoverTool(renderers=[plots[count]], tooltips=[(\"Day of year\", f\"@doy_{tag}\"), (f\"SST [{tag}]\", f\"@seas_clim_{tag}\")],\n",
    "        mode=\"vline\", attachment=loc))\n",
    "    entries.append((f\"Seasonal climatology [{tag}]\", [plots[count]]))\n",
    "\n",
    "# Add the hover tools\n",
    "p.add_tools(hovers[0], hovers[1])\n",
    "\n",
    "# Add the legend & show the plot\n",
    "legend = bm.Legend(items=[entries[0], entries[1]], location=\"top_left\")\n",
    "p.add_layout(legend, \"center\")\n",
    "bi.show(p)"
   ]
  },
  {
   "cell_type": "markdown",
   "metadata": {},
   "source": [
    "Although the difference are subtle, we can see that there are some anomalies between the two data sets, even though they;\n",
    "\n",
    "* are generated by the same processing system (OSTIA),\n",
    "* cover identical areas,\n",
    "* cover identical time periods, and\n",
    "* have the same resolution.\n",
    "\n",
    "However, this is not so surprising, as, they **DO NOT** show the same variable. While OSTIA contains the foundation temperature (<a href=\"https://www.ghrsst.org/wp-content/uploads/2021/04/newerSSTdef.gif\" target=\"blank\">SST$_{fnd}$</a>), which contains no diurnal cycle (typically ~10 m), the CCI/C3S dataset is SST at 20 cm as it is designed to be compared with the historical data from drifting buoys and contains some of the diurnal cycle (nominally at 10:30 ad 22:30). Also, while both data sets are \"reprocessed\" there is differences in the criteria used to select the input data. We have some justification to expect that the CCI_C3S record is of slightly higher quality, as it has more of a climate focus. By default, we will select this data set for the rest of our work, but you should feel free to switch to the OSTIA data if you wish."
   ]
  },
  {
   "cell_type": "markdown",
   "metadata": {},
   "source": [
    "<div class=\"alert alert-info\" role=\"alert\">\n",
    "\n",
    "## <a id='section6'></a>6. Determining heatwave thresholds\n",
    "[Back to top](#TOCTOP)\n",
    "\n",
    "</div>"
   ]
  },
  {
   "cell_type": "markdown",
   "metadata": {},
   "source": [
    "We have investigated our climatology. Lets now see check our \"threshold\" level - the level which must be exceeded for us to start to consider an event a heatwave. We'll begin by selecting our data set, as discussed above. This is simply done, using the tags we have set up in our dictionaries."
   ]
  },
  {
   "cell_type": "code",
   "execution_count": null,
   "metadata": {},
   "outputs": [],
   "source": [
    "tag = \"CCI_C3S\""
   ]
  },
  {
   "cell_type": "markdown",
   "metadata": {},
   "source": [
    "Now we will make another interactive plot, but this time plot our seasonal climatology and its associated threshold. The plot will have the same controls as the previous example, and  so you will find the code is very similar!"
   ]
  },
  {
   "cell_type": "code",
   "execution_count": null,
   "metadata": {},
   "outputs": [],
   "source": [
    "p = bk.figure(height=600, width=1000,\n",
    "    title=f\"SST Climatology and MHW detection threshold [climatology: {tag}, {heatwaves[tag]['min_year']} - {heatwaves[tag]['max_year']}]\",\n",
    "    x_axis_label=\"Day of year\", y_axis_label=r\"\\[ SST \\, [^\\circ C] \\]\")\n",
    "\n",
    "# Plot the climatology and detection threshold\n",
    "plots = []; hovers = []; entries = []\n",
    "\n",
    "count = -1\n",
    "for var, cols, loc, label, style in zip([\"seas_clim\", \"thresh_clim\"], [\"black\", \"blue\"], [\"left\", \"right\"],\n",
    "                                        [f\"Seasonal climatology [{tag}]\", \"MHW Threshold (90%)\"], [\"solid\", \"dashed\"]):\n",
    "    count = count + 1\n",
    "    plots.append(p.line(x=f\"doy_{tag}\", y=f\"{var}_{tag}\", source=data_clim, line_width=1.5, color=cols, line_dash=style))\n",
    "    hovers.append(bm.HoverTool(renderers=[plots[count]], tooltips=[(\"Day of year\", f\"@doy_{tag}\"), (label, f\"@{var}_{tag}\")],\n",
    "        mode=\"vline\", attachment=loc))\n",
    "    entries.append((label, [plots[count]]))\n",
    "\n",
    "line_dash=\"dashed\"\n",
    "\n",
    "# Add the hover tools\n",
    "p.add_tools(hovers[0], hovers[1])\n",
    "\n",
    "# Add the legend & plot\n",
    "legend = bm.Legend(items=[entries[0], entries[1]], location=\"top_left\")\n",
    "p.add_layout(legend, \"center\")\n",
    "bi.show(p)"
   ]
  },
  {
   "cell_type": "markdown",
   "metadata": {},
   "source": [
    "This plot is not particularly surprising, but it is important to note that as a result of increased variability, the 90% threshold is further from the seasonal climatology in the summer period than it is at the rest of the year.\n",
    "\n",
    "Lets now see how the seasonal climatology and threshold value compare with the entire time series....."
   ]
  },
  {
   "cell_type": "code",
   "execution_count": null,
   "metadata": {},
   "outputs": [],
   "source": [
    "p = bk.figure(height=600, width=1000,\n",
    "    title=f\"SST Climatology and MHW detection threshold [climatology: {tag}, {heatwaves[tag]['min_year']} - {heatwaves[tag]['max_year']}]\",\n",
    "    x_axis_type=\"datetime\", x_axis_label=\"Date\",\n",
    "    y_axis_label=r\"\\[ SST \\, [^\\circ C] \\]\", y_range = (13.5,32))\n",
    "\n",
    "# Plot the climatology and detection threshold\n",
    "p_sst = p.line(f\"t_{tag}\", f\"sst_{tag}\", source=data, line_width=1.5, color=\"red\")\n",
    "p_thresh = p.line(f\"t_{tag}\", f\"thresh_{tag}\", source=data, line_width=1.5, color=\"blue\", line_dash=\"dashed\")\n",
    "p_seas = p.line(f\"t_{tag}\", f\"seas_{tag}\", source=data, line_width=1.5, color=\"black\")\n",
    "\n",
    "# Add a hovertool to the plot\n",
    "p.add_tools(bm.HoverTool(renderers=[p_thresh], tooltips=[\n",
    "            (\"Date\", f\"@t_{tag}\"+\"{%F}\"),\n",
    "            (\"Threshold\", f\"@thresh_{tag}\"),\n",
    "            (\"SST\", f\"@sst_{tag}\"),\n",
    "            (\"Climatology\", f\"@seas_{tag}\"),\n",
    "        ], mode=\"vline\", formatters={f\"@t_{tag}\": \"datetime\"}))\n",
    "\n",
    "# Add the legend & plot\n",
    "legend = bm.Legend(items=[(f\"SST [{tag}]\", [p_sst]), (f\"Seasonal climatology [{tag}]\", [p_seas]),\n",
    "        (f\"90% MHW detection threshold\", [p_thresh])], location=\"top_left\", ncols = 1)\n",
    "\n",
    "# we will use the same axis in the next plot, so keep it for later\n",
    "p_MHW = p\n",
    "p.add_layout(legend, \"center\")\n",
    "bi.show(p)"
   ]
  },
  {
   "cell_type": "markdown",
   "metadata": {},
   "source": [
    "Using the 3rd icon down in the toolbox, you can draw a box to zoom in on any part of the plot you like (reset with the two arrows in a circle). There are clear periods here where we can see that the SST (in red) crosses the threshold. In fact, it appears to have done so every summer since 2017, with a suggestion of a general increase in SST over our 20 year time period.\n",
    "\n",
    "Lets now move on to our final section, where we investigate if these periods of warm SST signals represent heatwaves."
   ]
  },
  {
   "cell_type": "markdown",
   "metadata": {},
   "source": [
    "<div class=\"alert alert-info\" role=\"alert\">\n",
    "\n",
    "## <a id='section7'></a>7. Identifying heatwaves\n",
    "[Back to top](#TOCTOP)\n",
    "\n",
    "</div>"
   ]
  },
  {
   "cell_type": "markdown",
   "metadata": {},
   "source": [
    "In our final plot, we are going to explicitly label the marine heatwave events, shading them in red.\n",
    "\n",
    "In [Section4](#section4), we called our `detect` method, which performed all of our calculations related to identifying marine heat waves. This method will give us not only the presence and duration of event (with some flexibility), but provides quite a lot of different output parameters, including category, and intensity. Lets first look at the events we have found, and tabulate some of their parameters..."
   ]
  },
  {
   "cell_type": "code",
   "execution_count": null,
   "metadata": {},
   "outputs": [],
   "source": [
    "print(\"Index\\tStart\\t\\tCategory\\tDuration (days)\\tMax. intensity [C]\\n\")\n",
    "index = 0\n",
    "for start_date, category, duration,intensity in zip(heatwaves[tag][\"mhws\"].time_start.dt.date.values,\n",
    "                                                    heatwaves[tag][\"mhws\"].category.values,\n",
    "                                                    heatwaves[tag][\"mhws\"].duration.values,\n",
    "                                                    heatwaves[tag][\"mhws\"].intensity_max.values):\n",
    "    index = index + 1\n",
    "    print(f'{index}\\t{start_date}\\t{category}\\t\\t{duration}\\t\\t{\"%.2f\" % intensity}')"
   ]
  },
  {
   "cell_type": "markdown",
   "metadata": {},
   "source": [
    "We can see that, of the 49 events we have characterised, most are category 1 (Moderate), while only 2 are category 2 (Strong). We recorded no severe or extreme events. Lets now plot these heatwaves zones on our time series. We will scale the heatwaves zones colour according to category, but you can change this to intensity, or any parameter you like."
   ]
  },
  {
   "cell_type": "code",
   "execution_count": null,
   "metadata": {},
   "outputs": [],
   "source": [
    "intensities = np.array(heatwaves[tag][\"mhws\"].intensity_max)\n",
    "categories = np.array(heatwaves[tag][\"mhws\"].category)\n",
    "\n",
    "# change \"categories\" to \"\n",
    "scalings = categories.copy()"
   ]
  },
  {
   "cell_type": "markdown",
   "metadata": {},
   "source": [
    "Now lets make our final interactive plot, showing our final result! If you explore the plot; you should be able to find all 31 events, with the stronger intensity events in a \"redder\" shaded colour. By all means re-run this using intensity or another parameter as a scaling factor."
   ]
  },
  {
   "cell_type": "code",
   "execution_count": null,
   "metadata": {},
   "outputs": [],
   "source": [
    "# Plot all the heatwaves zones\n",
    "t_values = np.union1d(heatwaves[tag][\"mhws\"].index_start.values, heatwaves[tag][\"mhws\"].index_end.values)\n",
    "norm_scalings = (scalings - min(0, np.nanmin(scalings)))/(np.nanmax(scalings) - min(0, np.nanmin(scalings)))\n",
    "\n",
    "for t1, t2, scaling, norm_scaling in zip(*[iter(t_values)] * 2, scalings, norm_scalings):\n",
    "    plot_MWH_zone(p_MHW, t1, t2, heatwaves[tag][\"time_series\"], scaling, norm_scaling)\n",
    "\n",
    "# Add the legend & plot\n",
    "legend = bm.Legend(items=[(f\"SST [{tag}]\", [p_sst]), (f\"Seasonal climatology [{tag}]\", [p_seas]),\n",
    "        (f\"90% MHW detection threshold\", [p_thresh])], location=\"top_left\", ncols=1)\n",
    "\n",
    "p_MHW.add_layout(legend, \"center\")\n",
    "bi.show(p_MHW)"
   ]
  },
  {
   "cell_type": "markdown",
   "metadata": {},
   "source": [
    "<div class=\"alert alert-info\" role=\"alert\">\n",
    "\n",
    "## <a id='section8'></a>8. Conclusions\n",
    "[Back to top](#TOCTOP)\n",
    "\n",
    "</div>"
   ]
  },
  {
   "cell_type": "markdown",
   "metadata": {},
   "source": [
    "In this notebook, we have used the Hobday et al. (2016) [[5]](#ref5) based `xmhw` package, to identify marine heat waves in a small region of the western Mediterannean Sea, using a time series of sea surface temperature. Recent research suggests that the frequency of marine heatwaves is increasing [[6]](#ref6), and that their occurence further exacerbates existing climate change impacts in both physical [[7]](#ref7) and bioligical [[8]](#ref8) systems. Satellites provide essential inputs to the global, gridded SST records thet we need to monitor marine ecosystems and conduct these analyses, especially when they are derived from high-quality measurements, such as those available from Sentinel-3 SLSTR.\n",
    "\n",
    "### Suggested next steps\n",
    "\n",
    "* We showed in [Section5](#section5) that different SST records give us subtlely different climatologies. Try changing the analysis to OSTIA in [Section6](#section6) to see if your heatwave record changes.\n",
    "* Although near real-time data sets are not as high quality, they do allow us to look at more recent events. Try changing your OSTIA source to the NRT data feed () and adapt the acquition dates and tag in [Section6](#section6) to look at more recent events.\n",
    "* Adapt the notebook for any region you choose, but bear in mind that the larger the region, the more time it will take to gather the data (selecting a whole ocean basin, or the entire globe is not advisable!)\n",
    "* Change the analysis period, to see how the climatology definition alters your heatwave record.\n",
    "* If you wish to learn more about the level-2 SLSTR data, and see recent examples of high resolution anomalies, please see the linked example <a href=\"../Atl_Med_anomalies/Atlantic_Med_SST_anomalies.ipynb\"  target=\"_blank\">Sea surface temperature anomalies and trends in the Northern Atlantic and Mediterranean Sea</a>."
   ]
  },
  {
   "cell_type": "markdown",
   "metadata": {},
   "source": [
    "<hr>\n",
    "<a href=\"../../../Index.ipynb\"><< Index</a>\n",
    "<br>\n",
    "<hr>\n",
    "<a href=\"https://gitlab.eumetsat.int/eumetlab/oceans/ocean-training/applications/ocean-case-studies\">View on GitLab</a> | <a href=\"https://training.eumetsat.int/\">EUMETSAT Training</a> | <a href=mailto:ops@eumetsat.int>Contact helpdesk for support </a> | <a href=mailto:.training@eumetsat.int>Contact our training team to collaborate on and reuse this material</a></span></p>"
   ]
  }
 ],
 "metadata": {
  "author": "Ben Loveday, Hayley Evers-King",
  "description": "This Jupyter Notebook shows investigates marine heat waves in the Mediterranean Sea in 2023 using sea surface temperature data from Sentinel-3 SLSTR and the CMEMS OSTIA product.",
  "image": "../../../../img/thumbs/Med_MHW_2023_thumb.png",
  "kernelspec": {
   "display_name": "Python 3 (ipykernel)",
   "language": "python",
   "name": "python3"
  },
  "language_info": {
   "codemirror_mode": {
    "name": "ipython",
    "version": 3
   },
   "file_extension": ".py",
   "mimetype": "text/x-python",
   "name": "python",
   "nbconvert_exporter": "python",
   "pygments_lexer": "ipython3",
   "version": "3.10.14"
  },
  "services": {
   "eumetsat": {
    "binder": {
     "link": "https://mybinder.org/v2/git/https%3A%2F%2Fgitlab.eumetsat.int%2Feumetlab%2Foceans%2Focean-training%2Fapplications%2ocean-case-studies/HEAD?urlpath=%2Ftree%2FCase_studies%2FOcean_phenomena%2FBasin_scale_variability%2FAtlantic_Med_SST_anomalies_MHW_2023%2FAtlantic_Med_MHW_2023.ipynb",
     "service_contact": "ops@eumetsat.int",
     "service_provider": "EUMETSAT"
    },
    "git": {
     "link": "https://gitlab.eumetsat.int/eumetlab/oceans/ocean-training/applications/ocean-case-studies/-/blob/main/Case_studies/Ocean_phenomena/Basin_scale_variability/Atlantic_Med_SST_anomalies_MHW_2023/Atlantic_Med_MHW_2023.ipynb",
     "service_contact": "ops@eumetsat.int",
     "service_provider": "EUMETSAT"
    }
   },
   "wekeo": {
    "git": {
     "link": "https://github.com/wekeo/ocean-case-studies/blob/main/Case_studies/Ocean_phenomena/Basin_scale_variability/Atlantic_Med_SST_anomalies_MHW_2023/Atlantic_Med_MHW_2023.ipynb",
     "service_contact": "ops@eumetsat.int",
     "service_provider": "EUMETSAT"
    },
    "url": {
     "link": "https://jupyterhub-wekeo.apps.eumetsat.dpi.wekeo.eu/hub/user-redirect/lab/tree/public/wekeo4oceans/ocean-case-studies/Case_studies/Ocean_phenomena/Basin_scale_variability/Atlantic_Med_SST_anomalies_MHW_2023/Atlantic_Med_MHW_2023.ipynb",
     "service_contact": "ops@eumetsat.int",
     "service_provider": "EUMETSAT"
    }
   }
  },
  "tags": {
   "domain": [
    "Marine",
    "Climate"
   ],
   "platform": [
    "Sentinel-3",
    "CMEMS"
   ],
   "sensor": [
    "SLSTR",
    "OSTIA"
   ],
   "service": [
    "EUMETSAT",
    "CMEMS"
   ],
   "subtheme": "Climate system monitoring - Ocean",
   "tags": "Sea surface temperature"
  },
  "title": "Exploring North Atlantic and Mediterranean marine heatwaves using SST"
 },
 "nbformat": 4,
 "nbformat_minor": 4
}
